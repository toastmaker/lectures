{
 "cells": [
  {
   "cell_type": "markdown",
   "metadata": {},
   "source": [
    "# Gentle Touch on Mr Bayes"
   ]
  },
  {
   "cell_type": "markdown",
   "metadata": {},
   "source": [
    "### History\n",
    "Bayes..., Laplace - who famously set probability that the Sun will rise tomorrow $P(X) = (r+1)/(n+2)$"
   ]
  },
  {
   "cell_type": "markdown",
   "metadata": {},
   "source": [
    "## Bayesian statistics\n",
    "\n",
    "The frequentist/Bayesian divide is a philosophical question **\"what is probability?\"**\n",
    "\n",
    "- Freq: related to the event frequencies of repeated events\n",
    "\n",
    "(50:50 chance coin/head, tails, huge number of tosses...)\n",
    "\n",
    "- Bayes: related to our own certainty or uncertainty of events\n",
    "\n",
    "(50:50 chance coin/head, tails, we have no information about prioritising one or the other belief...)\n",
    "\n",
    "We analyze different thigs:\n",
    "\n",
    "- Freq: variation of data in terms of fixed model parametes\n",
    "\n",
    "- Bayes: variations of beliefs about parameters in terms of fixed observed data\n",
    "\n",
    "\n",
    "... kind of opposite approach. Look what varies and what is fixed\n",
    "\n",
    "\n"
   ]
  },
  {
   "cell_type": "markdown",
   "metadata": {},
   "source": [
    "\n",
    "$$ \\underbrace{P(H \\mid D)}_{posterior} = \\frac{ \\overbrace{P(D \\mid H) }^{Likelihood}\\, \\overbrace{P(H)}^{Prior}}{\\underbrace{P(D)}_{Model~ evidence}} $$"
   ]
  },
  {
   "cell_type": "markdown",
   "metadata": {},
   "source": [
    "<img src=\"figures/bayes_drinking.png\" width=\"50%\">"
   ]
  },
  {
   "cell_type": "markdown",
   "metadata": {},
   "source": [
    "### Bayes warm-up exercise\n",
    "\n",
    "In a bag there are two balls, either both black oo (BB) or one black and one red o<font color=\"red\">o</font> (BR).\n",
    "\n",
    "I pick one ball randomly and it happened to be black.\n",
    "\n",
    "1. What is the probability that the BB hypothesis is true?\n",
    "\n",
    "2. What if we repeated the experiment 5 times in total and always picked the black ball? How would it change the probability that the BB hypothesis is true?"
   ]
  },
  {
   "cell_type": "code",
   "execution_count": null,
   "metadata": {},
   "outputs": [],
   "source": []
  },
  {
   "cell_type": "code",
   "execution_count": null,
   "metadata": {},
   "outputs": [],
   "source": []
  },
  {
   "cell_type": "markdown",
   "metadata": {},
   "source": [
    "$$P(BB | D) = \\frac{P(BB) P(D|BB)}{P(D)}$$\n",
    "\n",
    "and similarly\n",
    "\n",
    "$$P(BR | D) = \\frac{P(BR) P(D|BR)}{P(D)}$$"
   ]
  },
  {
   "cell_type": "code",
   "execution_count": 2,
   "metadata": {},
   "outputs": [
    {
     "data": {
      "text/plain": [
       "array([0.66666667, 0.33333333])"
      ]
     },
     "execution_count": 2,
     "metadata": {},
     "output_type": "execute_result"
    }
   ],
   "source": [
    "import numpy as np\n",
    "\n",
    "# BB, BW\n",
    "prior = np.array([0.5, 0.5]) # both hypothesis equally probable before we measure\n",
    "lik = np.array([1., 0.5]) # prob to draw B from BB, prob to draw B from BW\n",
    "h = prior*lik\n",
    "Z = np.sum(h)\n",
    "posterior = h/Z\n",
    "posterior"
   ]
  },
  {
   "cell_type": "code",
   "execution_count": 3,
   "metadata": {},
   "outputs": [
    {
     "data": {
      "text/plain": [
       "array([0.96969697, 0.03030303])"
      ]
     },
     "execution_count": 3,
     "metadata": {},
     "output_type": "execute_result"
    }
   ],
   "source": [
    "# now we draw B 5x\n",
    "prior = np.array([0.5, 0.5]) # both hypothesis equally probable before we measure\n",
    "lik = np.array([1., 0.5**5]) # prob to draw 5x B from BB, prob to draw 5x B from BW\n",
    "h = prior*lik\n",
    "Z = np.sum(h)\n",
    "posterior = h/Z\n",
    "posterior"
   ]
  },
  {
   "cell_type": "markdown",
   "metadata": {},
   "source": [
    "Now imagine that you know after the first draw that the probability $P(BB) = 2/3$. You can view it as a new updated prior and do the remaining 4 experiments:"
   ]
  },
  {
   "cell_type": "code",
   "execution_count": 4,
   "metadata": {},
   "outputs": [
    {
     "data": {
      "text/plain": [
       "array([0.96969697, 0.03030303])"
      ]
     },
     "execution_count": 4,
     "metadata": {},
     "output_type": "execute_result"
    }
   ],
   "source": [
    "# now we draw B 5x\n",
    "prior = np.array([0.66666667, 0.33333333]) # both hypothesis equally probable before we measure\n",
    "lik = np.array([1., 0.5**4]) # prob to draw 5x B from BB, prob to draw 5x B from BW\n",
    "h = prior*lik\n",
    "Z = np.sum(h)\n",
    "posterior = h/Z\n",
    "posterior"
   ]
  },
  {
   "cell_type": "markdown",
   "metadata": {},
   "source": [
    "## Let's measure flux of a star"
   ]
  },
  {
   "cell_type": "code",
   "execution_count": 3,
   "metadata": {},
   "outputs": [],
   "source": [
    "import matplotlib.pyplot as plt\n",
    "from scipy import stats"
   ]
  },
  {
   "cell_type": "code",
   "execution_count": 4,
   "metadata": {},
   "outputs": [],
   "source": [
    "# Generating some simple photon count data\n",
    "np.random.seed(1)  # for repeatability\n",
    "\n",
    "F_true = 1000  # true flux, say number of photons measured in 1 second\n",
    "N = 50 # number of measurements\n",
    "F = stats.poisson(F_true).rvs(N)  # N measurements of the flux\n",
    "e = np.sqrt(F)  # errors on Poisson counts estimated via square root"
   ]
  },
  {
   "cell_type": "code",
   "execution_count": 5,
   "metadata": {},
   "outputs": [
    {
     "data": {
      "image/png": "[encoded data removed]",
      "text/plain": [
       "<Figure size 432x288 with 1 Axes>"
      ]
     },
     "metadata": {
      "needs_background": "light"
     },
     "output_type": "display_data"
    }
   ],
   "source": [
    "plt.errorbar(F, np.arange(N), xerr=e, fmt='ok', ecolor='gray', alpha=0.5)\n",
    "plt.vlines([F_true], 0, N, linewidth=5, alpha=0.2)\n",
    "plt.xlabel(\"Flux\");plt.ylabel(\"measurement number\");"
   ]
  },
  {
   "cell_type": "markdown",
   "metadata": {},
   "source": [
    "**Frequentist approach** discussed last time, maximum likelihood $\\mathcal{L}(D|F_{\\rm true}) = \\Pi_i^N P(D_i | F_{true})$, that analytically leads to minimising the least square error, which turns to be, in other words, weighted averaging\n",
    "\n",
    "<img src=\"figures/likelihood.png\" width=\"50%\">"
   ]
  },
  {
   "cell_type": "code",
   "execution_count": 6,
   "metadata": {},
   "outputs": [
    {
     "name": "stdout",
     "output_type": "stream",
     "text": [
      "F_true =  1000\n",
      "F_estimated =  997.679324193871 +/- 4.4669437520386825\n"
     ]
    }
   ],
   "source": [
    "w = 1. / e ** 2\n",
    "\n",
    "wavg = (w * F).sum() / w.sum()\n",
    "werr = w.sum() ** -0.5\n",
    "print(\"F_true = \", F_true)\n",
    "print(\"F_estimated = \", wavg, \"+/-\", werr)"
   ]
  },
  {
   "cell_type": "markdown",
   "metadata": {},
   "source": [
    "### While the Bayesian...\n",
    "The Bayesian approach is to compute our knowledge of the parameters:\n",
    "\n",
    "$$ P(F_{\\rm true}~|~D) $$\n",
    "\n",
    "Note that this formulation of the problem is *fundamentally contrary* to the frequentist philosophy, which says that *probabilities have no meaning for model parameters* like $F_{\\rm true}$. Nevertheless, within the Bayesian philosophy this is perfectly acceptable. \n",
    "\n",
    "To compute this result, apply Bayes' Theorem\n",
    "\n",
    "$$ P(F_{\\rm true}~|~D) = \\frac{P(D~|~F_{\\rm true})~P(F_{\\rm true})}{P(D)} $$\n",
    "\n",
    "\n",
    "- $P(F_{\\rm true}~|~D)$: The **posterior**, or the probability of the model parameters given the data: this is the result we want to compute.\n",
    "- $P(D~|~F_{\\rm true})$: The **likelihood**, which is proportional to the $\\mathcal{L}(D~|~F_{\\rm true})$ in the frequentist approach, above.\n",
    "- $P(F_{\\rm true})$: The **model prior**, which encodes what we knew about the model prior to the application of the data $D$.\n",
    "- $P(D)$: The **data probability**, which in practice amounts to simply a normalization term.\n",
    "\n",
    "\n",
    "$$ \\underbrace{P(\\theta \\mid D)}_{posterior} = \\frac{ \\overbrace{P(D \\mid \\theta) }^{Likelihood}\\, \\overbrace{P(\\theta)}^{Prior}}{\\underbrace{P(D)}_{Model~ evidence}} $$"
   ]
  },
  {
   "cell_type": "markdown",
   "metadata": {},
   "source": [
    "If we set the prior $P(F_{\\rm true}) \\propto 1$ (a *flat prior* or a *non-informative*), we find\n",
    "\n",
    "$$P(F_{\\rm true}|D) \\propto \\mathcal{L}(D|F_{\\rm true})$$\n",
    "\n",
    "and the Bayesian probability is maximized at precisely the same value as the frequentist result!\n",
    "\n",
    "So despite the philosophical differences, we see that (for this simple problem at least) the Bayesian and frequentist point estimates are equivalent."
   ]
  },
  {
   "cell_type": "markdown",
   "metadata": {},
   "source": [
    "But there are cases where the Freq and Bayes are not equal:\n",
    "\n",
    "- prior (cosmological parameters from CMB, SNe...)\n",
    "- handling of nuisance parameters\n",
    "- interpretation of unceratainty\n",
    "- comparison of models\n"
   ]
  },
  {
   "cell_type": "markdown",
   "metadata": {},
   "source": [
    "The posterior probability $P(F_{\\rm true}~|~D)$ as a function of $F_{\\rm true}$: this is the distribution reflecting our knowledge of the parameter $F_{\\rm true}$.\n",
    "\n",
    "But as the dimension of the model grows, this direct approach becomes increasingly intractable. For this reason, Bayesian calculations often depend on sampling methods such as [Markov Chain Monte Carlo (MCMC)](http://en.wikipedia.org/wiki/Markov_chain_Monte_Carlo).\n",
    "\n",
    "And the MCMC hammer in Python - that will sample the posterior probability for us - is called [emcee](https://emcee.readthedocs.io/en/stable/). For the purpose of today's lecture consider it a black-box that you provide data, priors and likelihoods (in the log form) and it returns the posterior *distribution* of probabilities (by calculating the integral for you in a smart way)"
   ]
  },
  {
   "cell_type": "code",
   "execution_count": 7,
   "metadata": {},
   "outputs": [],
   "source": [
    "def log_prior(theta):\n",
    "    return 1.  # flat prior\n",
    "\n",
    "def log_likelihood(theta, F, e):\n",
    "    return -0.5 * np.sum(np.log(2 * np.pi * e ** 2)\n",
    "                         + (F - theta[0]) ** 2 / e ** 2)\n",
    "\n",
    "def log_posterior(theta, F, e):\n",
    "    return log_prior(theta) + log_likelihood(theta, F, e)"
   ]
  },
  {
   "cell_type": "code",
   "execution_count": 8,
   "metadata": {},
   "outputs": [],
   "source": [
    "ndim = 1  # number of parameters in the model\n",
    "nwalkers = 50  # number of MCMC walkers\n",
    "nburn = 1000  # \"burn-in\" period to let chains stabilize\n",
    "nsteps = 2000  # number of MCMC steps to take\n",
    "\n",
    "# we'll start at random locations between 0 and 2000\n",
    "starting_guesses = 2000 * np.random.rand(nwalkers, ndim)\n",
    "\n",
    "import emcee\n",
    "sampler = emcee.EnsembleSampler(nwalkers, ndim, log_posterior, args=[F, e])\n",
    "sampler.run_mcmc(starting_guesses, nsteps)\n",
    "\n",
    "sample = sampler.chain  # shape = (nwalkers, nsteps, ndim)\n",
    "sample = sampler.chain[:, nburn:, :].ravel()  # discard burn-in points"
   ]
  },
  {
   "cell_type": "code",
   "execution_count": 9,
   "metadata": {},
   "outputs": [
    {
     "data": {
      "image/png": "[encoded data removed]",
      "text/plain": [
       "<Figure size 432x288 with 1 Axes>"
      ]
     },
     "metadata": {
      "needs_background": "light"
     },
     "output_type": "display_data"
    }
   ],
   "source": [
    "# plot a histogram of the sample\n",
    "plt.hist(sample, bins=50, alpha=0.3, density=True)\n",
    "\n",
    "# plot a best-fit Gaussian\n",
    "F_fit = np.linspace(975, 1025)\n",
    "pdf = stats.norm(np.mean(sample), np.std(sample)).pdf(F_fit)\n",
    "\n",
    "plt.plot(F_fit, pdf, '-k')\n",
    "plt.xlabel(\"F\"); plt.ylabel(\"P(F)\");"
   ]
  },
  {
   "cell_type": "code",
   "execution_count": 10,
   "metadata": {},
   "outputs": [
    {
     "name": "stdout",
     "output_type": "stream",
     "text": [
      "F_true =  1000\n",
      "F_estimated  =  997.6402683205047 +/-  4.495183699281103\n"
     ]
    }
   ],
   "source": [
    "print(\"F_true = \",F_true)\n",
    "print(\"F_estimated  = \", np.mean(sample), \"+/- \", np.std(sample))"
   ]
  },
  {
   "cell_type": "markdown",
   "metadata": {},
   "source": [
    "## Nuisance parameters\n",
    "A nuisance parameter is any quantity whose value is not relevant to the goal of an analysis, but is nevertheless required to determine the result."
   ]
  },
  {
   "cell_type": "markdown",
   "metadata": {},
   "source": [
    "## The Bayesian Billiard Game\n",
    "\n",
    "- the first ball divides the table\n",
    "- additional rolls give points to A or B\n",
    "- first person who gets 6 points wins\n",
    "\n",
    "<img src=\"figures/Bayes_game_board.png\">\n",
    "\n",
    "<img src=\"figures/black_board.png\">\n",
    "\n",
    "Question: In a certain game Alice has 5 points and Bob has 3 points. What are the odds that Bob will win?\n",
    "\n",
    "Frequentist Approach:\n",
    "\n",
    "$\\hat{p} =5/8$\n",
    "\n",
    "$P(B)=(1−\\hat{p})^3$"
   ]
  },
  {
   "cell_type": "code",
   "execution_count": 11,
   "metadata": {},
   "outputs": [
    {
     "name": "stdout",
     "output_type": "stream",
     "text": [
      "Frequentist Probability of Bob Winning: 0.05\n",
      "Odds 18 to 1\n"
     ]
    }
   ],
   "source": [
    "p_hat = 5. / 8.\n",
    "freq_prob = (1 - p_hat) ** 3\n",
    "print(\"Frequentist Probability of Bob Winning: %.2f\"%freq_prob)\n",
    "print(\"Odds %0.0f to 1\" % ((1. - freq_prob)/ freq_prob))"
   ]
  },
  {
   "cell_type": "markdown",
   "metadata": {},
   "source": [
    "### Bayesian approach\n",
    "\n",
    "- $B$ = Bob wins\n",
    "- $D$ = observed data, i.e. $D = (n_A, n_B) = (5, 3)$\n",
    "- $p$ = unknown probability that a ball lands on Alice's side during the current game\n",
    "\n",
    "We want to compute $P(B~|~D)$; that is, the probability that Bob wins given our observation that Alice currently has five points to Bob's three.\n",
    "\n",
    "The general Bayesian method of treating nuisance parameters is *marginalization*, or integrating the joint probability over the entire range of the nuisance parameter. In this case, that means that we will first calculate the joint distribution\n",
    "$$\n",
    "P(B,p~|~D)\n",
    "$$\n",
    "and then marginalize over $p$ using the following identity:\n",
    "$$\n",
    "P(B~|~D) \\equiv \\int_{-\\infty}^\\infty P(B,p~|~D) {\\mathrm d}p\n",
    "$$\n",
    "This identity follows from the definition of conditional probability, and the law of total probability: that is, it is a fundamental consequence of probability axioms and will always be true. Even a frequentist would recognize this; they would simply disagree with our interpretation of $P(p)$ as being a measure of uncertainty of our own knowledge."
   ]
  },
  {
   "cell_type": "markdown",
   "metadata": {},
   "source": [
    "We'll start by applying the following definition of [conditional probability](http://en.wikipedia.org/wiki/Conditional_probability#Definition) to expand the term $P(B,p~|~D)$:\n",
    "\n",
    "$$\n",
    "P(B~|~D) = \\int P(B~|~p, D) P(p~|~D) dp\n",
    "$$\n",
    "\n",
    "Next we use [Bayes' rule](http://en.wikipedia.org/wiki/Bayes%27_theorem) to rewrite $P(p~|~D)$:\n",
    "\n",
    "$$\n",
    "P(B~|~D) = \\int P(B~|~p, D) \\frac{P(D~|~p)P(p)}{P(D)} dp\n",
    "$$\n",
    "\n",
    "Finally, using the same probability identity we started with, we can expand $P(D)$ in the denominator to find:\n",
    "\n",
    "$$\n",
    "P(B~|~D) = \\frac{\\int P(B~|~p,D) P(D~|~p) P(p) dp}{\\int P(D~|~p)P(p) dp}\n",
    "$$\n",
    "\n",
    "Now the desired probability is expressed in terms of three quantities that we can compute. Let's look at each of these in turn:\n",
    "\n",
    "- $P(B~|~p,D)$: This term is exactly the frequentist likelihood we used above. In words: given a marker placement $p$ and the fact that Alice has won 5 times and Bob 3 times, what is the probability that Bob will go on to six wins?  Bob needs three wins in a row, i.e. $P(B~|~p,D) = (1 - p) ^ 3$.\n",
    "- $P(D~|~p)$: this is another easy-to-compute term. In words: given a probability $p$, what is the likelihood of exactly 5 positive outcomes out of eight trials? The answer comes from the well-known [Binomial distribution](http://en.wikipedia.org/wiki/Binomial_distribution): in this case $P(D~|~p) \\propto p^5 (1-p)^3$\n",
    "- $P(p)$: this is our prior on the probability $p$. By the problem definition, we can assume that $p$ is evenly drawn between 0 and 1.  That is, $P(p) \\propto 1$, and the integrals range from 0 to 1.\n",
    "\n",
    "Putting this all together, canceling some terms, and simplifying a bit, we find\n",
    "$$\n",
    "P(B~|~D) = \\frac{\\int_0^1 (1 - p)^6 p^5 dp}{\\int_0^1 (1 - p)^3 p^5 dp}\n",
    "$$\n",
    "where both integrals are evaluated from 0 to 1.\n",
    "\n",
    "These integrals might look a bit difficult, until we notice that they are special cases of the [Beta Function](http://en.wikipedia.org/wiki/Beta_function):\n",
    "$$\n",
    "\\beta(n, m) = \\int_0^1 (1 - p)^{n - 1} p^{m - 1}\n",
    "$$\n",
    "The Beta function can be further expressed in terms of gamma functions (i.e. factorials), but for simplicity we'll compute them directly using Scipy's beta function implementation:"
   ]
  },
  {
   "cell_type": "code",
   "execution_count": 12,
   "metadata": {},
   "outputs": [
    {
     "name": "stdout",
     "output_type": "stream",
     "text": [
      "P(B|D) = 0.09\n",
      "Bayesian odds 10 to 1\n"
     ]
    }
   ],
   "source": [
    "from scipy.special import beta\n",
    "bayes_prob = beta(6 + 1, 5 + 1) / beta(3 + 1, 5 + 1)\n",
    "\n",
    "print(\"P(B|D) = {0:.2f}\".format(bayes_prob))\n",
    "\n",
    "print(\"Bayesian odds %.0f to 1\" % ((1. - bayes_prob) / bayes_prob))\n"
   ]
  },
  {
   "cell_type": "markdown",
   "metadata": {},
   "source": [
    "### 0.05 vs 0.09, so who is right?"
   ]
  },
  {
   "cell_type": "code",
   "execution_count": 13,
   "metadata": {},
   "outputs": [
    {
     "name": "stdout",
     "output_type": "stream",
     "text": [
      "(Sanity check passed)\n",
      "Number of suitable games:  11068\n",
      "Number of these games Bob won:  979\n",
      "Monte Carlo Probability of Bob winning: 0.09\n",
      "MC Odds against Bob winning: 10 to 1\n"
     ]
    }
   ],
   "source": [
    "np.random.seed(0)\n",
    "\n",
    "# play 100000 games with randomly-drawn p, between 0 and 1\n",
    "p = np.random.random(100000)\n",
    "\n",
    "# each game needs at most 11 rolls for one player to reach 6 wins\n",
    "rolls = np.random.random((11, len(p)))\n",
    "\n",
    "# count the cumulative wins for Alice and Bob at each roll\n",
    "Alice_count = np.cumsum(rolls < p, 0)\n",
    "Bob_count = np.cumsum(rolls >= p, 0)\n",
    "\n",
    "# sanity check: total number of wins should equal number of rolls\n",
    "total_wins = Alice_count + Bob_count\n",
    "assert np.all(total_wins.T == np.arange(1, 12))\n",
    "print(\"(Sanity check passed)\")\n",
    "\n",
    "# determine number of games which meet our criterion of (A wins, B wins)=(5, 3)\n",
    "# this means Bob's win count at eight rolls must equal 3\n",
    "good_games = Bob_count[7] == 3\n",
    "print(\"Number of suitable games: \", good_games.sum())\n",
    "\n",
    "# truncate our results to consider only these games\n",
    "Alice_count = Alice_count[:, good_games]\n",
    "Bob_count = Bob_count[:, good_games]\n",
    "\n",
    "# determine which of these games Bob won.\n",
    "# to win, he must reach six wins after 11 rolls.\n",
    "bob_won = np.sum(Bob_count[10] == 6)\n",
    "print(\"Number of these games Bob won: \", bob_won.sum())\n",
    "\n",
    "# compute the probability\n",
    "mc_prob = bob_won.sum() * 1. / good_games.sum()\n",
    "print(\"Monte Carlo Probability of Bob winning: %.2f\" % mc_prob)\n",
    "print(\"MC Odds against Bob winning: %.0f to 1\" % ((1. - mc_prob) / mc_prob))"
   ]
  },
  {
   "cell_type": "markdown",
   "metadata": {},
   "source": [
    "<img src=\"figures/game_freq.png\" width=\"50%\">\n",
    "<img src=\"figures/game_bayes.png\" width=\"50%\">"
   ]
  },
  {
   "cell_type": "markdown",
   "metadata": {},
   "source": [
    "See the difference between the (frequentist) single point estimate $\\hat{p}$ vs the (Bayesian) entire probability distribution of $P(p)$.\n",
    "\n",
    "$p$ is fixed in the frequentist way while it can vary in the Bayesian way.\n",
    "\n",
    "In the frequentist's approach the parameters are fixed. They can't vary. It makes sense, recall that the paramater values were found e.g. by maximasing the likelihood, the extrem of the likelihood happens at a single point in the parametric space."
   ]
  },
  {
   "cell_type": "markdown",
   "metadata": {},
   "source": [
    "### Earthquake exercise\n",
    "\n",
    "<img src=\"figures/spitak.jpg\" width=\"50%\">\n",
    "\n",
    "There were 20 earthquakes observed in last 20.000 years. What is the probability of having an earthquake within next 50 years?\n",
    "\n",
    "Calculate it first using the frequentist approach, then the Bayesian approach, and compare.\n",
    "\n",
    "You may use your favourite $R$ if you like.\n",
    "\n",
    "Assume, the earthquakes follow the Poission distribution\n",
    "\n",
    "$$P(x, \\lambda) =  \\frac{\\lambda^x \\exp(-\\lambda)}{x!}$$\n",
    "\n",
    "where $\\lambda$ is the earthquake rate in a unit time period."
   ]
  },
  {
   "cell_type": "markdown",
   "metadata": {},
   "source": [
    "## Uncertainties: Confidence interval vs Credibility interval\n",
    "\n",
    "What does it mean $\\theta = 999 \\pm 4$ ?\n",
    "\n",
    "- Freq: If the experiment is repeated many times, in 95% of these cases the computed confidence interval will contain the true value $\\theta$\n",
    "\n",
    "\n",
    "- Bayes: Given our observed data, there is a 95% probability that the value of $\\theta$ lies within the credible region\n",
    "\n",
    "Notice again what varies and what is fixed!\n",
    "\n",
    "<img src=\"figures/confidence_credibility.png\" width=\"50%\">\n",
    "\n",
    "But in principle, we may have chosen (find) this one by 5% chance...\n",
    "\n",
    "<img src=\"figures/confidence_credibility_fail.png\" width=\"50%\">\n",
    "\n",
    "A frequentist 95% confidence interval is **not** 95% likely to contain the true value!\n",
    "\n",
    "This is a very common mistake, and it's a Bayesian interpretation of a frequenctist construct."
   ]
  },
  {
   "cell_type": "markdown",
   "metadata": {},
   "source": [
    "## Bayesian model selection\n",
    "### The difference between model fitting and model selection\n",
    "\n",
    "*Model fitting* assumes the particular model is true, and tuning the model so it provides the best possible fit to the data of the given model.\n",
    "\n",
    "*Model selection* asks the question of whether the assumptions of the model are compatible with the data.\n",
    "\n",
    "Example, linear model $M_1$ vs. quadratic model $M_2$\n",
    "\n",
    "$$\n",
    "y_{M_1}(x;\\theta) = \\theta_0 + \\theta_1 x\n",
    "$$\n",
    "\n",
    "$$\n",
    "y_{M_2}(x;\\theta) = \\theta_0 + \\theta_1 x + \\theta_2 x^2\\\\\n",
    "$$\n",
    "\n"
   ]
  },
  {
   "cell_type": "code",
   "execution_count": 44,
   "metadata": {},
   "outputs": [],
   "source": [
    "def generate_data(N=20, rseed=1):\n",
    "    rng = np.random.RandomState(rseed)\n",
    "    x = rng.rand(N)\n",
    "    sigma_y = 0.1 * np.ones(N)\n",
    "    \n",
    "    # linear model with noise\n",
    "    y = x - 0.2 + sigma_y * rng.randn(N)\n",
    "    return np.vstack([x, y, sigma_y]).round(2)\n",
    "\n",
    "data = generate_data()\n",
    "x, y, sigma_y = data"
   ]
  },
  {
   "cell_type": "code",
   "execution_count": 45,
   "metadata": {},
   "outputs": [
    {
     "data": {
      "image/png": "[encoded data removed]",
      "text/plain": [
       "<Figure size 432x288 with 1 Axes>"
      ]
     },
     "metadata": {
      "needs_background": "light"
     },
     "output_type": "display_data"
    }
   ],
   "source": [
    "plt.errorbar(x, y, sigma_y, fmt=\"o\")\n",
    "plt.xlabel('x')\n",
    "plt.ylabel('y');"
   ]
  },
  {
   "cell_type": "code",
   "execution_count": 46,
   "metadata": {},
   "outputs": [],
   "source": [
    "def polynomial_fit(theta, x):\n",
    "    \"\"\"Polynomial model of degree (len(theta) - 1)\"\"\"\n",
    "    return sum(t * x ** n for (n, t) in enumerate(theta))"
   ]
  },
  {
   "cell_type": "code",
   "execution_count": 47,
   "metadata": {},
   "outputs": [],
   "source": [
    "# function which computes the log-likelihood for the models\n",
    "\n",
    "from scipy import stats\n",
    "\n",
    "def logL(theta, model=polynomial_fit, data=data):\n",
    "    \"\"\"Gaussian log-likelihood of the model at theta\"\"\"\n",
    "    x, y, sigma_y = data\n",
    "    y_fit = model(theta, x)\n",
    "    return sum(stats.norm.logpdf(*args)\n",
    "               for args in zip(y, y_fit, sigma_y))"
   ]
  },
  {
   "cell_type": "code",
   "execution_count": 48,
   "metadata": {},
   "outputs": [],
   "source": [
    "from scipy import optimize\n",
    "\n",
    "def best_theta(degree, model=polynomial_fit, data=data):\n",
    "    theta_0 = (degree + 1) * [0]\n",
    "    neg_logL = lambda theta: -logL(theta, model, data)\n",
    "    return optimize.fmin_bfgs(neg_logL, theta_0, disp=False)\n",
    "\n",
    "theta1 = best_theta(1)\n",
    "theta2 = best_theta(2)"
   ]
  },
  {
   "cell_type": "code",
   "execution_count": 49,
   "metadata": {},
   "outputs": [
    {
     "data": {
      "image/png": "[encoded data removed]",
      "text/plain": [
       "<Figure size 432x288 with 1 Axes>"
      ]
     },
     "metadata": {
      "needs_background": "light"
     },
     "output_type": "display_data"
    }
   ],
   "source": [
    "xfit = np.linspace(0, 1, 1000)\n",
    "plt.errorbar(x, y, sigma_y, fmt='ok', ecolor='gray')\n",
    "plt.plot(xfit, polynomial_fit(theta1, xfit), label='linear model')\n",
    "plt.plot(xfit, polynomial_fit(theta2, xfit), label='quadratic model')\n",
    "plt.legend(loc='best', fontsize=14)\n",
    "plt.xlabel('x'); plt.ylabel('y');"
   ]
  },
  {
   "cell_type": "markdown",
   "metadata": {},
   "source": [
    "Naive Approach: Comparing Likelihoods"
   ]
  },
  {
   "cell_type": "code",
   "execution_count": 50,
   "metadata": {},
   "outputs": [
    {
     "name": "stdout",
     "output_type": "stream",
     "text": [
      "linear model:    logL = 22.01086700661255\n",
      "quadratic model: logL = 22.94151358650395\n"
     ]
    }
   ],
   "source": [
    "print(\"linear model:    logL =\", logL(best_theta(1)))\n",
    "print(\"quadratic model: logL =\", logL(best_theta(2)))"
   ]
  },
  {
   "cell_type": "markdown",
   "metadata": {},
   "source": [
    "The quadratic model yields a higher log-likelihood, but this **does not** necessarily mean it is the better model!\n",
    "\n",
    "The quadratic model has more degrees of freedom than the linear model, and thus will **always** give an equal or larger maximum likelihood, regardless of the data!\n",
    "\n",
    "We have talked over-fitting in one of the previous lectures...\n",
    "\n",
    "There exist some treatments, i.e. the **Akaike Information Criterion** that corrects the likelihood for the degrees of freedom..."
   ]
  },
  {
   "cell_type": "markdown",
   "metadata": {},
   "source": [
    "### Reminder of Bayesian vs Frequentist philosophies\n",
    "\n",
    "Frequentists consider **probabilities as frequencies**: that is, a probability is only meaningful in the context of repeated experiments (even if those repetitions are hypothetical).\n",
    "\n",
    "- *observed data* are considered to be random variables: if you make the observations again under similar circumstances, the data may be different, and the details depend on the generating distribution.\n",
    "- *model parameters* (those things that help define the generating distribution) are considered fixed: they aren't subject to a probability distribution; they just *are*.\n",
    "\n",
    "Bayesians consider **probabilities as degrees-of-belief**: that is, a probability is a way of quantifying our certainty about a particular statement.\n",
    "\n",
    "- *observed data* are not directly considered as random variables; they just *are*.\n",
    "- *model parameters* are uncertain quantities and thus subject to probabilistic description.\n",
    "\n",
    "In the model fitting context:\n",
    "\n",
    "- frequentists look at the *likelihood*: $P(D~|~\\theta, M)$\n",
    "- Bayesians look at the *posterior*: $P(\\theta~|~D, M)$"
   ]
  },
  {
   "cell_type": "markdown",
   "metadata": {},
   "source": [
    "### Model Selection: Frequentists Approach\n",
    "\n",
    "We have discussed this already, recall $\\chi^2$ distribution, the difference of the $\\chi^2$ and its p-value...\n",
    "\n",
    "### Model Selection: Bayesian Approach\n",
    "\n",
    "First, using Mr Bayes:\n",
    "\n",
    "$$\n",
    "P(M~|~D) = P(D~|~M)\\frac{P(M)}{P(D)}\n",
    "$$\n",
    "\n",
    "Using the definition of conditional probability, the first term can be expressed as an integral over the parameter space of the likelihood:\n",
    "\n",
    "$$\n",
    "P(D~|~M) = \\int_\\Omega P(D~|~\\theta, M) P(\\theta~|~M) d\\theta\n",
    "$$\n",
    "\n",
    "The remaining terms are priors, the most problematic of which is $P(D)$ – the prior probability of seeing your data *without reference to any model*.\n",
    "I'm not sure that $P(D)$ could ever be actually computed in the real world, but fortunately it can be canceled by computing the *odds ratio* between two alternative models:\n",
    "\n",
    "$$\n",
    "O_{21} \\equiv \\frac{P(M_2~|~D)}{P(M_1~|~D)} = \\frac{P(D~|~M_2)}{P(D~|~M_1)}\\frac{P(M_2)}{P(M_1)}\n",
    "$$\n",
    "\n",
    "We now have a means of comparing two models via computable quantities: an integral over the likelihood, and a prior odds for each model.\n",
    "Often the ratio of prior odds is assumed to be $P(M_1)/P(M_2) \\sim 1$, leaving only the well-defined (but often computationally intensive) integral over likelihood for each model.\n",
    "\n",
    "The ratio $P(D~|~M_2) / P(D~|~M_1)$ is the *Bayes factor*\n",
    "\n",
    "Notice, that for model selection, the frequentists are also working with the quantity $P(D~|~M)$. But unlike Bayesians, they *cannot* express this as an integral over parameter space, because the notion of a probability distribution over model parameters does not make sense in the frequentist context. The parameter space is only one ground true paramater vector."
   ]
  },
  {
   "cell_type": "markdown",
   "metadata": {},
   "source": [
    "Use an MCMC to draw samples (emcee) from the posterior in order to solve the model fitting problem. The emcee package requires to first define functions which compute the prior, likelihood, and posterior under each model:"
   ]
  },
  {
   "cell_type": "code",
   "execution_count": 51,
   "metadata": {},
   "outputs": [],
   "source": [
    "def log_prior(theta):\n",
    "    # size of theta determines the model.\n",
    "    # flat prior over a large range\n",
    "    if np.any(abs(theta) > 100):\n",
    "        return -np.inf  # log(0)\n",
    "    else:\n",
    "        return 200 ** -len(theta)\n",
    "\n",
    "def log_likelihood(theta, data=data):\n",
    "    x, y, sigma_y = data\n",
    "    yM = polynomial_fit(theta, x)\n",
    "    return -0.5 * np.sum(np.log(2 * np.pi * sigma_y ** 2)\n",
    "                         + (y - yM) ** 2 / sigma_y ** 2)\n",
    "\n",
    "def log_posterior(theta, data=data):\n",
    "    theta = np.asarray(theta)\n",
    "    return log_prior(theta) + log_likelihood(theta, data)"
   ]
  },
  {
   "cell_type": "code",
   "execution_count": 52,
   "metadata": {},
   "outputs": [],
   "source": [
    "# we draw samples from the posterior using MCMC\n",
    "\n",
    "import emcee\n",
    "\n",
    "def compute_mcmc(degree, data=data,\n",
    "                   log_posterior=log_posterior,\n",
    "                   nwalkers=50, nburn=1000, nsteps=2000):\n",
    "    ndim = degree + 1  # this determines the model\n",
    "    rng = np.random.RandomState(0)\n",
    "    starting_guesses = rng.randn(nwalkers, ndim)\n",
    "    sampler = emcee.EnsembleSampler(nwalkers, ndim, log_posterior, args=[data])\n",
    "    sampler.run_mcmc(starting_guesses, nsteps)\n",
    "    trace = sampler.chain[:, nburn:, :].reshape(-1, ndim)\n",
    "    return trace\n",
    "\n",
    "trace_2D = compute_mcmc(1)\n",
    "trace_3D = compute_mcmc(2)"
   ]
  },
  {
   "cell_type": "code",
   "execution_count": 53,
   "metadata": {},
   "outputs": [
    {
     "data": {
      "image/png": "[encoded data removed]",
      "text/plain": [
       "<Figure size 432x432 with 3 Axes>"
      ]
     },
     "metadata": {},
     "output_type": "display_data"
    }
   ],
   "source": [
    "import seaborn as sns; # sns.set()\n",
    "import pandas as pd\n",
    "columns = [r'$\\theta_{0}$'.format(i) for i in range(3)]\n",
    "df_2D = pd.DataFrame(trace_2D, columns=columns[:2])\n",
    "\n",
    "with sns.axes_style('ticks'):\n",
    "    jointplot = sns.jointplot(x=r'$\\theta_0$', y=r'$\\theta_1$',\n",
    "                              data=df_2D, kind=\"hex\");"
   ]
  },
  {
   "cell_type": "code",
   "execution_count": 54,
   "metadata": {},
   "outputs": [
    {
     "data": {
      "image/png": "[encoded data removed]",
      "text/plain": [
       "<Figure size 540x540 with 12 Axes>"
      ]
     },
     "metadata": {},
     "output_type": "display_data"
    }
   ],
   "source": [
    "df_3D = pd.DataFrame(trace_3D, columns=columns[:3])\n",
    "\n",
    "# get the colormap from the joint plot above\n",
    "cmap = jointplot.ax_joint.collections[0].get_cmap()\n",
    "\n",
    "with sns.axes_style('ticks'):\n",
    "    grid = sns.PairGrid(df_3D)\n",
    "    grid.map_diag(plt.hist, bins=30, alpha=0.5)\n",
    "    grid.map_offdiag(plt.hexbin, gridsize=50, linewidths=0, cmap=cmap)"
   ]
  },
  {
   "cell_type": "markdown",
   "metadata": {},
   "source": [
    "These samples give us a good idea of what the posterior for each model looks like, but we still must integrate this posterior to find the Bayes factor."
   ]
  },
  {
   "cell_type": "code",
   "execution_count": 55,
   "metadata": {},
   "outputs": [],
   "source": [
    "from scipy import integrate\n",
    "\n",
    "def integrate_posterior_2D(log_posterior, xlim, ylim, data=data):\n",
    "    func = lambda theta1, theta0: np.exp(log_posterior([theta0, theta1], data))\n",
    "    return integrate.dblquad(func, xlim[0], xlim[1],\n",
    "                             lambda x: ylim[0], lambda x: ylim[1])\n",
    "\n",
    "def integrate_posterior_3D(log_posterior, xlim, ylim, zlim, data=data):\n",
    "    func = lambda theta2, theta1, theta0: np.exp(log_posterior([theta0, theta1, theta2], data))\n",
    "    return integrate.tplquad(func, xlim[0], xlim[1],\n",
    "                             lambda x: ylim[0], lambda x: ylim[1],\n",
    "                             lambda x, y: zlim[0], lambda x, y: zlim[1])"
   ]
  },
  {
   "cell_type": "code",
   "execution_count": 56,
   "metadata": {},
   "outputs": [
    {
     "name": "stdout",
     "output_type": "stream",
     "text": [
      "Z1 = 46944203.62796968 +/- 2.888255804144592\n"
     ]
    }
   ],
   "source": [
    "xlim, ylim = zip(trace_2D.min(0), trace_2D.max(0))\n",
    "Z1, err_Z1 = integrate_posterior_2D(log_posterior, xlim, ylim)\n",
    "print(\"Z1 =\", Z1, \"+/-\", err_Z1)"
   ]
  },
  {
   "cell_type": "code",
   "execution_count": 57,
   "metadata": {},
   "outputs": [
    {
     "name": "stdout",
     "output_type": "stream",
     "text": [
      "Z2 = 111122358.91704482 +/- 13.698354807682335\n"
     ]
    }
   ],
   "source": [
    "xlim, ylim, zlim = zip(trace_3D.min(0), trace_3D.max(0))\n",
    "Z2, err_Z2 = integrate_posterior_3D(log_posterior, xlim, ylim, zlim)\n",
    "print(\"Z2 =\", Z2, \"+/-\", err_Z2)"
   ]
  },
  {
   "cell_type": "code",
   "execution_count": 58,
   "metadata": {},
   "outputs": [
    {
     "name": "stdout",
     "output_type": "stream",
     "text": [
      "Bayes factor: 2.367115646431743\n"
     ]
    }
   ],
   "source": [
    "print(\"Bayes factor:\", Z2 / Z1)"
   ]
  },
  {
   "cell_type": "code",
   "execution_count": 59,
   "metadata": {},
   "outputs": [
    {
     "name": "stdout",
     "output_type": "stream",
     "text": [
      "Bayesian \"p-value\": 0.29699009627416184\n"
     ]
    }
   ],
   "source": [
    "print('Bayesian \"p-value\":', Z1 / (Z1 + Z2))"
   ]
  },
  {
   "cell_type": "markdown",
   "metadata": {},
   "source": [
    "The posterior probability in favor of the linear model is about 30%, which is not low enough to support rejecting the simpler model.\n",
    "\n",
    "Keep in mind, this is not a true p-value in the meaning of the p-value definition..."
   ]
  },
  {
   "cell_type": "markdown",
   "metadata": {},
   "source": [
    "Advantage is that unlike in frequentism the Bayesian approach is general and we do not have to remember all the tests and distributions.\n",
    "\n",
    "Also notice, that the posteriors it's independent of the number of parameters, you get rid of  them by intergration over all $d\\theta$'s."
   ]
  },
  {
   "cell_type": "markdown",
   "metadata": {},
   "source": [
    "### Solution to the Earthquake exercise"
   ]
  },
  {
   "cell_type": "code",
   "execution_count": 104,
   "metadata": {},
   "outputs": [],
   "source": [
    "from scipy.stats import poisson"
   ]
  },
  {
   "cell_type": "code",
   "execution_count": 115,
   "metadata": {},
   "outputs": [
    {
     "data": {
      "text/plain": [
       "0.048770575499285984"
      ]
     },
     "execution_count": 115,
     "metadata": {},
     "output_type": "execute_result"
    }
   ],
   "source": [
    "# frequentist approach: lambda = 20 in 20 000 years, fixed!\n",
    "lambda_fixed = 20\n",
    "freq_prob = 1.-poisson.pmf(0,50/20000*lambda_fixed)\n",
    "freq_prob"
   ]
  },
  {
   "cell_type": "code",
   "execution_count": 116,
   "metadata": {},
   "outputs": [
    {
     "data": {
      "text/plain": [
       "0.9999999999999999"
      ]
     },
     "execution_count": 116,
     "metadata": {},
     "output_type": "execute_result"
    }
   ],
   "source": [
    "# Let's be Bayesian\n",
    "\n",
    "N = 100\n",
    "lam = np.linspace(1,100,N)\n",
    "prior = np.ones_like(lam)/N\n",
    "# print(prior)\n",
    "np.sum(prior) # sanity check"
   ]
  },
  {
   "cell_type": "code",
   "execution_count": 117,
   "metadata": {},
   "outputs": [],
   "source": [
    "# Likelihood P( data | model ) :\n",
    "# P(x, lambda) = lambda^x exp(-lambda) / x!\n",
    "lik = poisson.pmf(20,lam)"
   ]
  },
  {
   "cell_type": "code",
   "execution_count": 118,
   "metadata": {},
   "outputs": [],
   "source": [
    "h = prior * lik\n",
    "Z  = np.sum(h) # norm. factor\n",
    "post = h/Z # posterior"
   ]
  },
  {
   "cell_type": "code",
   "execution_count": 120,
   "metadata": {},
   "outputs": [
    {
     "data": {
      "image/png": "[encoded data removed]",
      "text/plain": [
       "<Figure size 432x288 with 1 Axes>"
      ]
     },
     "metadata": {
      "needs_background": "light"
     },
     "output_type": "display_data"
    }
   ],
   "source": [
    "plt.plot(lam, post)\n",
    "plt.xlabel(\"Lambda\")\n",
    "plt.ylabel(\"Posterior prob. P(lambda|data)\");\n",
    "# The Poisson model is fully determined by lambda parameter"
   ]
  },
  {
   "cell_type": "markdown",
   "metadata": {},
   "source": [
    "Bayes: integrate over all possible lambda's to get the mean (expected) value, $$\\mathbb E[x] = \\int x p(x) dx$$"
   ]
  },
  {
   "cell_type": "code",
   "execution_count": 121,
   "metadata": {},
   "outputs": [
    {
     "data": {
      "text/plain": [
       "0.05108351192968037"
      ]
     },
     "execution_count": 121,
     "metadata": {},
     "output_type": "execute_result"
    }
   ],
   "source": [
    "prob = 1.- poisson.pmf(0, 50/20000*lam) # for all possible lambda's\n",
    "bayes_prob = np.sum(post*prob)\n",
    "bayes_prob"
   ]
  },
  {
   "cell_type": "code",
   "execution_count": 122,
   "metadata": {},
   "outputs": [
    {
     "data": {
      "image/png": "[encoded data removed]",
      "text/plain": [
       "<Figure size 720x216 with 2 Axes>"
      ]
     },
     "metadata": {
      "needs_background": "light"
     },
     "output_type": "display_data"
    }
   ],
   "source": [
    "plt.figure(figsize=(10,3))\n",
    "plt.subplot(121)\n",
    "plt.plot(lam, post)\n",
    "plt.xlabel(\"lambda\")\n",
    "plt.ylabel(\"Posterior\")\n",
    "plt.subplot(122)\n",
    "plt.plot(lam, prob)\n",
    "plt.xlabel(\"lambda\")\n",
    "plt.ylabel(\"Prob(Earthquake) as a fcn of lambda\")\n",
    "plt.tight_layout()"
   ]
  },
  {
   "cell_type": "markdown",
   "metadata": {},
   "source": [
    "As an improvement you can use log-uniform proir, which is equivalent to changing from $x$ to $1/x$\n",
    "\n",
    "It's handy if  the $x$-paramter spans over many orders of magnitude.\n",
    "\n",
    "*What is the length of a string? It's twice the length from the middle to the end.*"
   ]
  },
  {
   "cell_type": "code",
   "execution_count": 133,
   "metadata": {},
   "outputs": [],
   "source": [
    "# Try log-uniform prior\n",
    "N = 100\n",
    "lam = np.linspace(1,100,N)\n",
    "prior = 1./lam # log-uniform prior\n",
    "prior = prior/np.sum(prior) # normalise it\n",
    "lik = poisson.pmf(20,lam)\n",
    "h = prior * lik\n",
    "Z  = np.sum(h) # norm. factor\n",
    "post = h/Z # posterior"
   ]
  },
  {
   "cell_type": "code",
   "execution_count": 134,
   "metadata": {},
   "outputs": [
    {
     "data": {
      "image/png": "[encoded data removed]",
      "text/plain": [
       "<Figure size 432x288 with 1 Axes>"
      ]
     },
     "metadata": {
      "needs_background": "light"
     },
     "output_type": "display_data"
    }
   ],
   "source": [
    "plt.plot(lam, post)\n",
    "plt.xlabel(\"Lambda\")\n",
    "plt.ylabel(\"Posterior prob. P(lambda|data)\");"
   ]
  },
  {
   "cell_type": "code",
   "execution_count": 135,
   "metadata": {},
   "outputs": [
    {
     "data": {
      "text/plain": [
       "0.04871122070950458"
      ]
     },
     "execution_count": 135,
     "metadata": {},
     "output_type": "execute_result"
    }
   ],
   "source": [
    "prob = 1.- poisson.pmf(0, 50/20000.*lam) # for all possible lambda's\n",
    "bayes_prob = np.sum(post*prob)\n",
    "bayes_prob"
   ]
  },
  {
   "cell_type": "code",
   "execution_count": 136,
   "metadata": {},
   "outputs": [
    {
     "data": {
      "text/plain": [
       "[<matplotlib.lines.Line2D at 0x7f9ca4b7c880>]"
      ]
     },
     "execution_count": 136,
     "metadata": {},
     "output_type": "execute_result"
    },
    {
     "data": {
      "image/png": "[encoded data removed]",
      "text/plain": [
       "<Figure size 432x288 with 1 Axes>"
      ]
     },
     "metadata": {
      "needs_background": "light"
     },
     "output_type": "display_data"
    }
   ],
   "source": [
    "plt.plot(lam, prior)"
   ]
  },
  {
   "cell_type": "code",
   "execution_count": 137,
   "metadata": {},
   "outputs": [
    {
     "data": {
      "text/plain": [
       "[<matplotlib.lines.Line2D at 0x7f9ca4510d00>]"
      ]
     },
     "execution_count": 137,
     "metadata": {},
     "output_type": "execute_result"
    },
    {
     "data": {
      "image/png": "[encoded data removed]",
      "text/plain": [
       "<Figure size 432x288 with 1 Axes>"
      ]
     },
     "metadata": {
      "needs_background": "light"
     },
     "output_type": "display_data"
    }
   ],
   "source": [
    "plt.plot(lam, prob)"
   ]
  },
  {
   "cell_type": "markdown",
   "metadata": {},
   "source": [
    "### Redo the Bayes' billiard game numerically"
   ]
  },
  {
   "cell_type": "code",
   "execution_count": 138,
   "metadata": {},
   "outputs": [],
   "source": [
    "from scipy.stats import binom"
   ]
  },
  {
   "cell_type": "code",
   "execution_count": 139,
   "metadata": {},
   "outputs": [
    {
     "data": {
      "text/plain": [
       "(0.9999999999999999, 0.01)"
      ]
     },
     "execution_count": 139,
     "metadata": {},
     "output_type": "execute_result"
    }
   ],
   "source": [
    "N = 100\n",
    "p = np.linspace(0,1,N)\n",
    "step = 1./N # p[1]-p[0]\n",
    "prior = np.ones_like(p)/N\n",
    "np.sum(prior), step"
   ]
  },
  {
   "cell_type": "code",
   "execution_count": 140,
   "metadata": {},
   "outputs": [],
   "source": [
    "n, k = 8, 5\n",
    "lik = binom.pmf(k, n, p)"
   ]
  },
  {
   "cell_type": "code",
   "execution_count": 141,
   "metadata": {},
   "outputs": [
    {
     "data": {
      "text/plain": [
       "0.9999999999999999"
      ]
     },
     "execution_count": 141,
     "metadata": {},
     "output_type": "execute_result"
    }
   ],
   "source": [
    "h = prior * lik\n",
    "Z  = step*np.sum(h) # norm. factor\n",
    "post = h/Z # posterior\n",
    "step*np.sum(post)"
   ]
  },
  {
   "cell_type": "code",
   "execution_count": 142,
   "metadata": {},
   "outputs": [
    {
     "data": {
      "text/plain": [
       "0.09090908693428822"
      ]
     },
     "execution_count": 142,
     "metadata": {},
     "output_type": "execute_result"
    }
   ],
   "source": [
    "prob = binom.pmf(3,3,1-p)\n",
    "bayes_prob = step*np.sum(post*prob)\n",
    "bayes_prob"
   ]
  },
  {
   "cell_type": "code",
   "execution_count": null,
   "metadata": {},
   "outputs": [],
   "source": []
  },
  {
   "cell_type": "code",
   "execution_count": null,
   "metadata": {},
   "outputs": [],
   "source": []
  },
  {
   "cell_type": "code",
   "execution_count": null,
   "metadata": {},
   "outputs": [],
   "source": []
  }
 ],
 "metadata": {
  "kernelspec": {
   "display_name": "Python 3",
   "language": "python",
   "name": "python3"
  },
  "language_info": {
   "codemirror_mode": {
    "name": "ipython",
    "version": 3
   },
   "file_extension": ".py",
   "mimetype": "text/x-python",
   "name": "python",
   "nbconvert_exporter": "python",
   "pygments_lexer": "ipython3",
   "version": "3.8.5"
  }
 },
 "nbformat": 4,
 "nbformat_minor": 4
}
