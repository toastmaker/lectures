{
 "cells": [
  {
   "cell_type": "markdown",
   "metadata": {},
   "source": [
    "# Simple Statistics without Statistics\n",
    "\n",
    "*martin.topinka@gmail.com*\n",
    "\n",
    "<img src=\"figures/topinka-brno.jpg\" width=\"70%\">\n",
    "\n",
    "Heavily based on Jake Vanderplas's talk *Statistics for Hackers*\n",
    "\n",
    "## Main theme:\n",
    "\n",
    "- Statistics often looks **complicated** but using programming it can be **easy**.\n",
    "\n",
    "- *If you can write a for-loop, you can do statistics*\n",
    "\n",
    "We will apply Monte Carlo approach, which means a for loop and a random number generator"
   ]
  },
  {
   "cell_type": "markdown",
   "metadata": {},
   "source": [
    "(Sorry, it will not be in R but in Python. You can convert it to any other programming language with just little overhead)\n",
    "\n",
    "In *R* a for-loop may look like this...\n",
    "\n",
    "```R\n",
    "# Create a vector filled with random normal values\n",
    "u1 <- rnorm(30)\n",
    "print(\"This loop calculates the square of the first 10 elements of vector u1\")\n",
    "\n",
    "# Initialize `usq`\n",
    "usq <- 0\n",
    "\n",
    "for(i in 1:10) {\n",
    "  # i-th element of `u1` squared into `i`-th position of `usq`\n",
    "  usq[i] <- u1[i]*u1[i]\n",
    "  print(usq[i])\n",
    "}\n",
    "\n",
    "print(i)\n",
    "```"
   ]
  },
  {
   "cell_type": "markdown",
   "metadata": {},
   "source": [
    "Statistics is all about **asking the right question**\n",
    "\n",
    "<img src=\"figures/random-dilbert640.png\">"
   ]
  },
  {
   "cell_type": "code",
   "execution_count": 51,
   "metadata": {},
   "outputs": [
    {
     "name": "stdout",
     "output_type": "stream",
     "text": [
      "0\n",
      "1\n",
      "2\n",
      "3\n",
      "4\n",
      "5\n",
      "6\n",
      "7\n",
      "8\n",
      "9\n"
     ]
    }
   ],
   "source": [
    "# for loop in Python\n",
    "for i in range(10):\n",
    "    print(i)"
   ]
  },
  {
   "cell_type": "markdown",
   "metadata": {},
   "source": [
    "### Table of content\n",
    "1. Direct Monte Carlo simulation\n",
    "2. Shuffling\n",
    "3. Bootstrapping\n",
    "4. Cross-validation"
   ]
  },
  {
   "cell_type": "markdown",
   "metadata": {},
   "source": [
    "## Coin (textbook) example\n",
    "\n",
    "Toss 30 times and get 22 heads. Is the coin fair?\n",
    "\n",
    "- \"a fair coin should show about 15 heads!\"\n",
    "\n",
    "- \"gniaaah, even a fair coin could show 22 heads, just by chance, it's a random variable\"\n",
    "\n",
    "Classical method is to test the *Null hypothesis* (= basic, simple, zero complication hypothesis)\n",
    "\n",
    "Q: What is the probability of a fair coin showing 22 heads in 30 tosses by chance?\n",
    "\n",
    "$P(H) = 1/2$\n",
    "\n",
    "$P(HH) = (1/2)^2$\n",
    "\n",
    "$P(HHT) = (1/2)^3$\n",
    "\n",
    "\n",
    "\n",
    "$P(2H, 1T) = P(HHT) + P(HTH) + P(THH) = 3/8$\n",
    "\n",
    "...\n",
    "\n",
    "Mr Bernoulli:\n",
    "\n",
    "$P(N_H, N) = \\binom{N}{N_H} p^{N_H} (1 - p)^{N - N_H}$\n",
    "\n",
    "- $N_H$ number of heads, $N$ number of tosses\n",
    "- number of arrangements\n",
    "- $p$ probability of head, $p=0.5$ in this null hypothesis\n",
    "- $p^{N_H}$ probability of $N$ heads\n",
    "- $(1 - p)^{N - N_H}$ probability of $(N-N_H)$ tails\n",
    "- probability of $N_H$ heads in $N$ tosses"
   ]
  },
  {
   "cell_type": "code",
   "execution_count": 2,
   "metadata": {},
   "outputs": [],
   "source": [
    "%matplotlib inline\n",
    "import matplotlib.pyplot as plt\n",
    "import numpy as np"
   ]
  },
  {
   "cell_type": "code",
   "execution_count": 3,
   "metadata": {},
   "outputs": [],
   "source": [
    "np.random.seed(42)"
   ]
  },
  {
   "cell_type": "code",
   "execution_count": 4,
   "metadata": {},
   "outputs": [],
   "source": [
    "import scipy.stats"
   ]
  },
  {
   "cell_type": "code",
   "execution_count": 5,
   "metadata": {},
   "outputs": [
    {
     "name": "stdout",
     "output_type": "stream",
     "text": [
      "0.005450961180031254\n"
     ]
    }
   ],
   "source": [
    "# probability mass function\n",
    "# binom.pmf(k) = choose(n, k) * p**k * (1-p)**(n-k)\n",
    "\n",
    "[ n, p ] = [ 30, 0.5 ]\n",
    "binom = scipy.stats.binom(n, p)\n",
    "n_h = 22\n",
    "print(binom.pmf(n_h))"
   ]
  },
  {
   "cell_type": "markdown",
   "metadata": {},
   "source": [
    "## The concept of p-value\n",
    "\n",
    "<img src=\"figures/who_knows_pvalue.jpg\" width=\"80%\">"
   ]
  },
  {
   "cell_type": "markdown",
   "metadata": {},
   "source": [
    "**Definition of p-value $\\equiv$ Probability of obtaining a result equal or more exteme than that what was observed, if the null hypothesis is true.**\n",
    "\n",
    "<img src=\"figures/pvalue.jpg\" width=\"50%\">\n",
    "\n",
    "p-value does **not** calculate the probability that the null hypothesis is true. A high p-value means that our data is highly consistent with our null hypothesis, nothing more."
   ]
  },
  {
   "cell_type": "code",
   "execution_count": 6,
   "metadata": {},
   "outputs": [
    {
     "data": {
      "text/plain": [
       "19.0"
      ]
     },
     "execution_count": 6,
     "metadata": {},
     "output_type": "execute_result"
    }
   ],
   "source": [
    "x = np.arange(1, n+1)\n",
    "v_crit = binom.isf(0.05)\n",
    "v_crit"
   ]
  },
  {
   "cell_type": "code",
   "execution_count": 7,
   "metadata": {},
   "outputs": [
    {
     "data": {
      "text/plain": [
       "<matplotlib.collections.PolyCollection at 0x7fd58498ffd0>"
      ]
     },
     "execution_count": 7,
     "metadata": {},
     "output_type": "execute_result"
    },
    {
     "data": {
      "image/png": "[encoded data removed]",
      "text/plain": [
       "<Figure size 432x288 with 1 Axes>"
      ]
     },
     "metadata": {
      "needs_background": "light"
     },
     "output_type": "display_data"
    }
   ],
   "source": [
    "plt.step(x, binom.pmf(x), where='mid')\n",
    "plt.fill_between(x[x>v_crit], binom.pmf(x)[x>v_crit], facecolor='red')\n",
    "#plt.annotate('Integral is 0.8%',xy=(v_crit+2,0.03),color='red')"
   ]
  },
  {
   "cell_type": "code",
   "execution_count": 8,
   "metadata": {},
   "outputs": [
    {
     "data": {
      "image/png": "[encoded data removed]",
      "text/plain": [
       "<Figure size 432x288 with 1 Axes>"
      ]
     },
     "metadata": {
      "needs_background": "light"
     },
     "output_type": "display_data"
    }
   ],
   "source": [
    "h = plt.vlines(x, 0, binom.pmf(x), lw=2)\n",
    "plt.vlines(x[n_h-1:], 0, binom.pmf(x[n_h-1:]), color='red', lw=2)\n",
    "\n",
    "plt.annotate('p = 0.05',xy=(v_crit+2,0.03),color='red')\n",
    "plt.title('Bernoulli 30 tosses of a fair coin')\n",
    "plt.xlabel('Number of heads');"
   ]
  },
  {
   "cell_type": "code",
   "execution_count": 9,
   "metadata": {},
   "outputs": [
    {
     "name": "stdout",
     "output_type": "stream",
     "text": [
      "0.008062400855123993\n"
     ]
    }
   ],
   "source": [
    "pvalue = scipy.stats.binom_test((22,8), p=p) /2.\n",
    "# division by 2 because the default is two sided, not one sided\n",
    "# you can ommit /2 if  alternative='greater' is added\n",
    "# distribution is symmetric\n",
    "print(pvalue)"
   ]
  },
  {
   "cell_type": "markdown",
   "metadata": {},
   "source": [
    "In other words, the integral of the red area is 0.8%"
   ]
  },
  {
   "cell_type": "code",
   "execution_count": 10,
   "metadata": {},
   "outputs": [
    {
     "data": {
      "text/plain": [
       "0.008062400855123993"
      ]
     },
     "execution_count": 10,
     "metadata": {},
     "output_type": "execute_result"
    }
   ],
   "source": [
    "scipy.stats.binom_test(22, 30, 0.5, alternative='greater')"
   ]
  },
  {
   "cell_type": "markdown",
   "metadata": {},
   "source": [
    "Probability 0.008 of this observation given a fair coin is smaller than $p < 0.05$. We say that we can **reject the fair coin hypothesis at $p = 0.05$ level**."
   ]
  },
  {
   "cell_type": "markdown",
   "metadata": {},
   "source": [
    "!!! Essential is the knowledge of the shape of the Bernoulli underlying distribution !!!\n",
    "\n",
    "Interpretation requires understanding the doc/help..."
   ]
  },
  {
   "cell_type": "code",
   "execution_count": 11,
   "metadata": {},
   "outputs": [
    {
     "data": {
      "text/plain": [
       "0.008062400855123997"
      ]
     },
     "execution_count": 11,
     "metadata": {},
     "output_type": "execute_result"
    }
   ],
   "source": [
    "1. - binom.cdf(21)\n",
    "# As you can see, one has to read careful the man page\n",
    "# what the parameters really are! "
   ]
  },
  {
   "cell_type": "markdown",
   "metadata": {},
   "source": [
    "Is there an easier way?\n",
    "\n",
    "### Simulate it!"
   ]
  },
  {
   "cell_type": "code",
   "execution_count": 12,
   "metadata": {},
   "outputs": [
    {
     "name": "stdout",
     "output_type": "stream",
     "text": [
      "0.0089\n"
     ]
    }
   ],
   "source": [
    "M = 0\n",
    "Ntrials = 10000\n",
    "for i in range(Ntrials):\n",
    "    trials = np.random.randint(2, size=30)\n",
    "    if (trials.sum() >= 22):\n",
    "        M += 1\n",
    "p = M/np.float(Ntrials)\n",
    "print(p)"
   ]
  },
  {
   "cell_type": "markdown",
   "metadata": {},
   "source": [
    "$\\rightarrow$ reject fair coin at $p = 0.0089$. Work done."
   ]
  },
  {
   "cell_type": "markdown",
   "metadata": {},
   "source": [
    "Lesson learnt: Computing the sampling distribution is often hard, simulating the sampling distribution is often easier and more intuitive"
   ]
  },
  {
   "cell_type": "markdown",
   "metadata": {},
   "source": [
    "## Is the difference between two groups of observations significant?\n",
    "\n",
    "e.g. variability over a period of time"
   ]
  },
  {
   "cell_type": "markdown",
   "metadata": {},
   "source": [
    "<img src=\"figures/two_sets.png\">"
   ]
  },
  {
   "cell_type": "code",
   "execution_count": 13,
   "metadata": {},
   "outputs": [],
   "source": [
    "A = np.array([84., 72., 57., 46., 63., 76., 99., 91.])\n",
    "B = np.array([81., 69., 74., 61., 56, 87., 69., 65., 66., 44., 62., 69.])\n",
    "\n",
    "NA = len(A)\n",
    "NB = len(B)"
   ]
  },
  {
   "cell_type": "code",
   "execution_count": 14,
   "metadata": {},
   "outputs": [
    {
     "name": "stdout",
     "output_type": "stream",
     "text": [
      "Mean A = 73.5\n",
      "Mean B = 66.9\n",
      "\n",
      "Difference A - B = 6.6\n",
      "\n",
      "Sigma A = 316.3\n",
      "Sigma B = 124.8\n"
     ]
    }
   ],
   "source": [
    "muA, sigA = A.mean(), A.var(ddof=1)\n",
    "muB, sigB = B.mean(), B.var(ddof=1)\n",
    "diff = muA-muB\n",
    "print(\"Mean A = %.1f\"%muA)\n",
    "print(\"Mean B = %.1f\"%muB)\n",
    "print(\"\\nDifference A - B = %.1f\\n\"%(diff))\n",
    "print(\"Sigma A = %.1f\"%sigA)\n",
    "print(\"Sigma B = %.1f\"%sigB)"
   ]
  },
  {
   "cell_type": "markdown",
   "metadata": {},
   "source": [
    "Is the difference in means 6.6 significant?\n",
    "\n",
    "But what are the distributions?\n",
    "\n",
    "Difference of two distributions follows *t distribution*\n",
    "\n",
    "Welch's t-test...\n",
    "\n",
    "$$t = \\frac{ \\bar{X_1} - \\bar{X_2} } {\\sqrt{\\frac{s^2_1}{n_1} + \\frac{s_2^2}{n_2}}}$$"
   ]
  },
  {
   "cell_type": "code",
   "execution_count": 15,
   "metadata": {},
   "outputs": [],
   "source": [
    "def ttest(mu1, mu2, sig1, sig2, n1, n2):\n",
    "    return (mu1 - mu2)/np.sqrt(sig1/n1 + sig2/n2)"
   ]
  },
  {
   "cell_type": "code",
   "execution_count": 16,
   "metadata": {
    "scrolled": true
   },
   "outputs": [
    {
     "data": {
      "text/plain": [
       "0.9316147771711583"
      ]
     },
     "execution_count": 16,
     "metadata": {},
     "output_type": "execute_result"
    }
   ],
   "source": [
    "t = ttest(muA, muB, sigA, sigB, NA, NB)\n",
    "t"
   ]
  },
  {
   "cell_type": "markdown",
   "metadata": {},
   "source": [
    "Student t distribution\n",
    "\n",
    "$$p(t, \\nu) = \\frac{ \\Gamma \\left( \\frac{\\nu + 1}{2}\\right) } {\\sqrt{\\nu \\pi} \\Gamma \\left(\\frac{\\nu}{2}\\right)} \\left( 1 + \\frac{t^2}{\\nu}\\right)^{-\\frac{\\nu+1}{2}}$$\n",
    "\n",
    "where $\\nu$ is a degree of freedom... (Wiki definition d.o.f. $\\equiv$ The number of independent ways by which a dynamic system can move wothout violating any constraint imposed on it)\n",
    "\n",
    "$$\\nu \\approx \\frac{\\left( \\frac{s_1^2}{N_1}+ \\frac{s^2_2}{N_2}\\right)^2}{\\frac{s^4_1}{N_1^2(N_1-1)}+ \\frac{s^4_2}{N_2^2(N_2 -1)}}$$\n",
    "\n",
    "and $\\Gamma$ is an extension of the factorial function (for integer $n$)\n",
    "$\\Gamma(n) = (n-1)!$ ...\n",
    "\n",
    "\n",
    "$$\\Gamma(t) = \\int_0^\\infty x^{t-1} \\exp(-x) dx$$"
   ]
  },
  {
   "cell_type": "markdown",
   "metadata": {},
   "source": [
    "<img src=\"figures/travolta.gif\" width=\"50%\">"
   ]
  },
  {
   "cell_type": "code",
   "execution_count": 17,
   "metadata": {},
   "outputs": [],
   "source": [
    "def degof(s1, n1, s2, n2):\n",
    "    return (s1/n1 + s2/n2)**2 / (s1**2/(n1**2 * (n1-1)) + s2**2/(n2**2 * (n2-1)) )"
   ]
  },
  {
   "cell_type": "code",
   "execution_count": 18,
   "metadata": {},
   "outputs": [
    {
     "data": {
      "text/plain": [
       "10.696428999751994"
      ]
     },
     "execution_count": 18,
     "metadata": {},
     "output_type": "execute_result"
    }
   ],
   "source": [
    "degof(sigA,NA, sigB, NB)"
   ]
  },
  {
   "cell_type": "code",
   "execution_count": 19,
   "metadata": {},
   "outputs": [
    {
     "data": {
      "text/plain": [
       "10.696428999751994"
      ]
     },
     "execution_count": 19,
     "metadata": {},
     "output_type": "execute_result"
    }
   ],
   "source": [
    "( sigA/NA + sigB/NB )**2 / ( ( sigA**2/(NA**2*(NA-1) ) + sigB**2/(NB**2*(NB-1))))"
   ]
  },
  {
   "cell_type": "markdown",
   "metadata": {},
   "source": [
    "But what is the critical value for t-distribution for this $\\nu$?\n",
    "\n",
    "<img src=\"figures/tstat.png\" width=\"100%\">"
   ]
  },
  {
   "cell_type": "code",
   "execution_count": 20,
   "metadata": {},
   "outputs": [
    {
     "name": "stdout",
     "output_type": "stream",
     "text": [
      "1.7958848187036691\n"
     ]
    }
   ],
   "source": [
    "pval = scipy.stats.t.ppf(0.95, 11)\n",
    "print(pval)"
   ]
  },
  {
   "cell_type": "code",
   "execution_count": 21,
   "metadata": {},
   "outputs": [
    {
     "data": {
      "text/plain": [
       "False"
      ]
     },
     "execution_count": 21,
     "metadata": {},
     "output_type": "execute_result"
    }
   ],
   "source": [
    "t_crit = 1.7959\n",
    "t = 0.93 # remember from above?\n",
    "t > t_crit"
   ]
  },
  {
   "cell_type": "markdown",
   "metadata": {},
   "source": [
    "At this stage, we probably already forgot the initial question...\n",
    "\n",
    "The critical value of the the t-distribution that controls the difference of means corresponding to the $p=0.05$ rejection level is $t_{crit}=1.7959$. Our t-student value is $t=0.93$.\n",
    "\n",
    "$t < t_{crit}$, therefore the difference 6.6 is **not** significant at $p=0.05$ level..."
   ]
  },
  {
   "cell_type": "markdown",
   "metadata": {},
   "source": [
    "<img src=\"figures/i-have-no-idea-what-im-doing.jpg\" width=\"70%\">"
   ]
  },
  {
   "cell_type": "code",
   "execution_count": 22,
   "metadata": {},
   "outputs": [
    {
     "name": "stdout",
     "output_type": "stream",
     "text": [
      "Ttest_indResult(statistic=0.9316147771711583, pvalue=0.3720857855465306)\n"
     ]
    }
   ],
   "source": [
    "print(scipy.stats.ttest_ind(A, B, equal_var=False))\n",
    "# be careful, the p-value is two-sided here, so we should divide it by 2"
   ]
  },
  {
   "cell_type": "code",
   "execution_count": 23,
   "metadata": {},
   "outputs": [
    {
     "name": "stdout",
     "output_type": "stream",
     "text": [
      "0.18604289277326536\n"
     ]
    }
   ],
   "source": [
    "from statsmodels.stats.weightstats import ttest_ind\n",
    "t, p, dof = ttest_ind(A, B, alternative='larger', usevar='unequal')\n",
    "print(p) # not smaller than 0.05"
   ]
  },
  {
   "cell_type": "markdown",
   "metadata": {},
   "source": [
    "Dark magic lies behind the sampling from the t-distribution.\n",
    "\n",
    "It's the same as in the first coin example earlier, the answer lies in the sampling distribution\n",
    "\n",
    ":-( Unfortunately, we cannot sample this time, because we don't know the underlying distributions of A and B"
   ]
  },
  {
   "cell_type": "markdown",
   "metadata": {},
   "source": [
    "## Shuffling\n",
    "\n",
    "Idea: **If the distributions are the same, shuffling -- changing the labels (A or B) --  will not change the statistics (mean). If the result is the same, the distributions are likely the same**\n",
    "\n",
    "<img src=\"figures/two_sets.png\" width=\"25%\" align=\"right\">\n",
    "\n",
    "1. shuffle\n",
    "2. rearrange\n",
    "3. compute means and difference\n",
    "\n",
    "Repeat steps 1. - 3. many times.\n",
    "\n",
    "And check how many times out of all runs we were more extreme than our value:\n",
    "\n",
    "$\\frac{N_{> 6.6}}{N_{tot}} = 0.16$\n",
    "\n",
    "Is 0.16 smaller than $p = 0.05$?\n",
    "\n",
    "No. The difference of 6.6 is **not** significant at level $p=0.05$\n",
    "\n",
    "We cannot reject the null hypothesis that the distributions are the same, shuffling data points does not matter."
   ]
  },
  {
   "cell_type": "code",
   "execution_count": 24,
   "metadata": {},
   "outputs": [
    {
     "name": "stdout",
     "output_type": "stream",
     "text": [
      "0.149\n",
      "True\n"
     ]
    }
   ],
   "source": [
    "AB = np.concatenate([A, B])\n",
    "M = 0\n",
    "\n",
    "N_trials = 10000\n",
    "for i in range(N_trials):\n",
    "    np.random.shuffle(AB)\n",
    "    mu1 = AB[0:NA].mean()\n",
    "    mu2 = AB[NA:].mean()\n",
    "    diff = mu1 - mu2\n",
    "    if (diff > 6.6):\n",
    "        M = M +1\n",
    "pvalue = M/np.float(Ntrials)\n",
    "print(pvalue)\n",
    "print(pvalue > 0.05) # True if no difference at p= 0.05 level"
   ]
  },
  {
   "cell_type": "code",
   "execution_count": 25,
   "metadata": {},
   "outputs": [
    {
     "name": "stdout",
     "output_type": "stream",
     "text": [
      "0.1558\n",
      "True\n"
     ]
    },
    {
     "data": {
      "image/png": "[encoded data removed]",
      "text/plain": [
       "<Figure size 432x288 with 1 Axes>"
      ]
     },
     "metadata": {
      "needs_background": "light"
     },
     "output_type": "display_data"
    }
   ],
   "source": [
    "AB = np.concatenate([A, B])\n",
    "M = 0\n",
    "\n",
    "N_trials = 10000\n",
    "results =  np.empty(N_trials)\n",
    "for i in range(N_trials):\n",
    "    np.random.shuffle(AB)\n",
    "    mu1 = AB[0:NA].mean()\n",
    "    mu2 = AB[NA:].mean()\n",
    "    diff = mu1 - mu2\n",
    "    results[i] = diff\n",
    "    if (diff > 6.6):\n",
    "        M = M +1\n",
    "pvalue = M/np.float(Ntrials)\n",
    "print(pvalue)\n",
    "print(pvalue > 0.05) # True if no difference at p= 0.05 level\n",
    "plt.hist(results, bins=30)\n",
    "plt.axvline(x=6.6, color='red');\n",
    "#  plt.annotate('p > %f'%pvalue,xy=(8,400),color='red')\n",
    "plt.annotate(\n",
    "    '%i%%'%(pvalue*100),\n",
    "    color = 'red',\n",
    "    xy=(6.6, 500),\n",
    "    xycoords='data',\n",
    "    xytext=(10, 500),\n",
    "    textcoords='data',\n",
    "    horizontalalignment='left',\n",
    "    verticalalignment='center',\n",
    "    arrowprops=dict(color='r', arrowstyle=\"<-\")\n",
    ");"
   ]
  },
  {
   "cell_type": "markdown",
   "metadata": {},
   "source": [
    "Warning, it works only if:\n",
    "\n",
    "- Null hypothesis assumes the two groups follow the same distribution\n",
    "- samples are representative (be careful about selection biases)\n",
    "- trials are independent\n",
    "- the data are not ranked (ordered)"
   ]
  },
  {
   "cell_type": "markdown",
   "metadata": {},
   "source": [
    "## Bootstrapping"
   ]
  },
  {
   "cell_type": "code",
   "execution_count": 26,
   "metadata": {},
   "outputs": [],
   "source": [
    "sample = np.array([48, 24, 51, 12, 21, 41, 25, 23, 32, 61, 19, 24, 29, 21, 23, 13, 32, 18, 42, 18])"
   ]
  },
  {
   "cell_type": "markdown",
   "metadata": {},
   "source": [
    "What is the mean?\n",
    "\n",
    "What is the standard error of this mean?\n",
    "\n",
    "$$\\bar{x}=\\frac{1}{N}\\Sigma_{i=1}^{N} x_i$$\n",
    "\n",
    "$$\\sigma_\\bar{x} = \\frac{1}{\\sqrt{N}}\\sqrt{\\frac{1}{N-1}}\\Sigma_{i=1}^N (x_i - \\bar{x})^2$$"
   ]
  },
  {
   "cell_type": "code",
   "execution_count": 27,
   "metadata": {},
   "outputs": [
    {
     "data": {
      "text/plain": [
       "(28.85, 2.970269348055829)"
      ]
     },
     "execution_count": 27,
     "metadata": {},
     "output_type": "execute_result"
    }
   ],
   "source": [
    "# mean and the standard error of the mean\n",
    "sample.mean(), scipy.stats.sem(sample, ddof=1)\n"
   ]
  },
  {
   "cell_type": "code",
   "execution_count": 28,
   "metadata": {},
   "outputs": [
    {
     "data": {
      "text/plain": [
       "12.947103923271799"
      ]
     },
     "execution_count": 28,
     "metadata": {},
     "output_type": "execute_result"
    }
   ],
   "source": [
    "sample.std()   # Be careful, this is something completely different!!!"
   ]
  },
  {
   "cell_type": "markdown",
   "metadata": {},
   "source": [
    "Again, we don't know the model\n",
    "\n",
    "**The idea of Bootstrapping resampling: The data estimates its own distribution**\n",
    "\n",
    "**Simulate the distribution by drawing samples from the sample itself with replacement**\n",
    "\n",
    "1. draw a sample\n",
    "2. calculate mean\n",
    "\n",
    "Check the distribution of the means (compute the means of the means created this way)"
   ]
  },
  {
   "cell_type": "code",
   "execution_count": 29,
   "metadata": {},
   "outputs": [
    {
     "name": "stdout",
     "output_type": "stream",
     "text": [
      "28.8363 2.905429023397405\n"
     ]
    }
   ],
   "source": [
    "Ntrials = 10000\n",
    "xbar = np.empty(Ntrials)\n",
    "\n",
    "N = sample.size\n",
    "\n",
    "for i in range(Ntrials):\n",
    "    new_sample = sample[np.random.randint(N, size=N)]\n",
    "    xbar[i] = np.mean(new_sample)\n",
    "    \n",
    "print(xbar.mean(), xbar.std())"
   ]
  },
  {
   "cell_type": "code",
   "execution_count": 30,
   "metadata": {},
   "outputs": [
    {
     "data": {
      "image/png": "[encoded data removed]",
      "text/plain": [
       "<Figure size 432x288 with 1 Axes>"
      ]
     },
     "metadata": {
      "needs_background": "light"
     },
     "output_type": "display_data"
    }
   ],
   "source": [
    "plt.hist(xbar, bins=50);"
   ]
  },
  {
   "cell_type": "markdown",
   "metadata": {},
   "source": [
    "## Estimating uncertainty of fit paramters\n",
    "Bootstrapping is often used to determine the uncertainity of fit parameters"
   ]
  },
  {
   "cell_type": "code",
   "execution_count": 31,
   "metadata": {},
   "outputs": [
    {
     "data": {
      "text/plain": [
       "20"
      ]
     },
     "execution_count": 31,
     "metadata": {},
     "output_type": "execute_result"
    }
   ],
   "source": [
    "x = np.array([ 7.5,  8.1,  8.4,  8.8,  8.9,\n",
    "               9.0,  9.1,  9.2,  9.3,  9.5,\n",
    "               9.6,  9.9, 10.0, 10.05, 10.5,\n",
    "              10.6, 10.6, 11.2, 11.8, 12.6 ])\n",
    "\n",
    "y = np.array([22, 21, 19, 16, 18,\n",
    "              15, 17, 17, 17, 19,\n",
    "              14, 14, 15, 11, 12,\n",
    "              12, 13, 10,  7,  9])\n",
    "assert(x.size  == y.size)\n",
    "N = x.size\n",
    "N"
   ]
  },
  {
   "cell_type": "code",
   "execution_count": 32,
   "metadata": {},
   "outputs": [
    {
     "name": "stdout",
     "output_type": "stream",
     "text": [
      "Slope:  -2.969429344938822\n",
      "Intersect: 43.79997109961708\n"
     ]
    },
    {
     "data": {
      "image/png": "[encoded data removed]",
      "text/plain": [
       "<Figure size 432x288 with 1 Axes>"
      ]
     },
     "metadata": {
      "needs_background": "light"
     },
     "output_type": "display_data"
    }
   ],
   "source": [
    "plt.plot(x,y,\"o\")\n",
    "plt.grid(True)\n",
    "slope, intersect = np.polyfit(x,y, 1)\n",
    "plt.plot(x,slope*x+intersect,'-r')\n",
    "print(\"Slope: \", slope)\n",
    "print(\"Intersect:\", intersect)"
   ]
  },
  {
   "cell_type": "code",
   "execution_count": 33,
   "metadata": {},
   "outputs": [
    {
     "name": "stdout",
     "output_type": "stream",
     "text": [
      "Slope: -2.969429344938821\n",
      "Intersect: 43.79997109961707\n",
      "Std Error: 0.28981087982123505\n"
     ]
    }
   ],
   "source": [
    "from scipy.stats import linregress\n",
    "linreg = linregress(x,y)\n",
    "print(\"Slope:\", linreg.slope)\n",
    "print(\"Intersect:\", linreg.intercept)\n",
    "print(\"Std Error:\", linreg.stderr)"
   ]
  },
  {
   "cell_type": "markdown",
   "metadata": {},
   "source": [
    "!!! But this is the error of the fit. Not the error of the paramters !!!\n",
    "\n",
    "What is the error of each parameter?"
   ]
  },
  {
   "cell_type": "code",
   "execution_count": 34,
   "metadata": {},
   "outputs": [],
   "source": [
    "results = np.empty((10000,2))\n",
    "for i in range(10000):\n",
    "    ind = np.random.randint(N, size=N)\n",
    "    slope, intercept = np.polyfit(x[ind],y[ind], 1)\n",
    "    results[i][0], results[i][1] = slope, intercept"
   ]
  },
  {
   "cell_type": "code",
   "execution_count": 35,
   "metadata": {},
   "outputs": [
    {
     "name": "stdout",
     "output_type": "stream",
     "text": [
      "Slope: -3.013191433579877 +/- 0.3204121375249993\n"
     ]
    }
   ],
   "source": [
    "print(\"Slope:\", results[:,0].mean(), '+/-', results[:,0].std())"
   ]
  },
  {
   "cell_type": "code",
   "execution_count": 36,
   "metadata": {},
   "outputs": [
    {
     "name": "stdout",
     "output_type": "stream",
     "text": [
      "Intercept: 44.199365860801315 +/- 3.050190452831111\n"
     ]
    }
   ],
   "source": [
    "print(\"Intercept:\", results[:,1].mean(), '+/-', results[:,1].std())"
   ]
  },
  {
   "cell_type": "markdown",
   "metadata": {},
   "source": [
    "Warnings:\n",
    "\n",
    "- Bootstrapping does not work for only few samples (N<20)\n",
    "- Be careful about biases"
   ]
  },
  {
   "cell_type": "markdown",
   "metadata": {},
   "source": [
    "## Cross validation\n",
    "\n",
    "Some of you may know about this from Machine Learning already"
   ]
  },
  {
   "cell_type": "code",
   "execution_count": 37,
   "metadata": {},
   "outputs": [
    {
     "data": {
      "image/png": "[encoded data removed]",
      "text/plain": [
       "<Figure size 432x288 with 1 Axes>"
      ]
     },
     "metadata": {
      "needs_background": "light"
     },
     "output_type": "display_data"
    }
   ],
   "source": [
    "import numpy as np\n",
    "\n",
    "np.random.seed(0)\n",
    "true_fun = lambda X: 10 - 1. / (X + 0.1)\n",
    "\n",
    "def make_data(N, err=1.0, rseed=1):\n",
    "    # randomly sample the data\n",
    "#    rng = np.random.RandomState(rseed)\n",
    "    X = np.sort(np.random.rand(N))\n",
    "    X = X[:, np.newaxis]\n",
    "    #X = np.sort(rng.rand(N, 1))\n",
    "    y = true_fun(X.ravel())\n",
    "    if err > 0:\n",
    "        y += err * 1.*np.random.randn(N)\n",
    "    return X, y\n",
    "\n",
    "N = 30\n",
    "X, y = make_data(N)\n",
    "plt.scatter(X.ravel(), y);"
   ]
  },
  {
   "cell_type": "markdown",
   "metadata": {},
   "source": [
    "### Which model is a better fit?"
   ]
  },
  {
   "cell_type": "markdown",
   "metadata": {},
   "source": [
    "$y = a + b x$\n",
    "\n",
    "$y = a + b x + c x^2$\n",
    "\n",
    "or higher polynomial?"
   ]
  },
  {
   "cell_type": "code",
   "execution_count": 38,
   "metadata": {},
   "outputs": [
    {
     "data": {
      "text/plain": [
       "[<matplotlib.lines.Line2D at 0x7fd5861463a0>]"
      ]
     },
     "execution_count": 38,
     "metadata": {},
     "output_type": "execute_result"
    },
    {
     "data": {
      "image/png": "[encoded data removed]",
      "text/plain": [
       "<Figure size 432x288 with 1 Axes>"
      ]
     },
     "metadata": {
      "needs_background": "light"
     },
     "output_type": "display_data"
    }
   ],
   "source": [
    "z1 = np.polyfit(X.ravel(), y, 1)\n",
    "f1 = np.poly1d(z1)\n",
    "y_new = f1(X.ravel())\n",
    "plt.scatter(X.ravel(), y);\n",
    "plt.plot(X.ravel(), y_new, color='red')\n",
    "\n",
    "z2 = np.polyfit(X.ravel(), y, 2)\n",
    "f2 = np.poly1d(z2)\n",
    "y_new = f2(X.ravel())\n",
    "plt.plot(X.ravel(), y_new, color='green')"
   ]
  },
  {
   "cell_type": "markdown",
   "metadata": {},
   "source": [
    "- measure of error is rms (root of sum of squared errors)\n",
    "- but more flexible models will always have lower RMS error"
   ]
  },
  {
   "cell_type": "code",
   "execution_count": 39,
   "metadata": {},
   "outputs": [],
   "source": [
    "def rms(y_real, y_predicted):\n",
    "    return np.sqrt(np.mean( (y_real-y_predicted)**2) )"
   ]
  },
  {
   "cell_type": "code",
   "execution_count": 40,
   "metadata": {},
   "outputs": [
    {
     "data": {
      "image/png": "[encoded data removed]",
      "text/plain": [
       "<Figure size 432x288 with 1 Axes>"
      ]
     },
     "metadata": {
      "needs_background": "light"
     },
     "output_type": "display_data"
    }
   ],
   "source": [
    "z1 = np.polyfit(X.ravel(), y, 1)\n",
    "f1 = np.poly1d(z1)\n",
    "y_new = f1(X.ravel())\n",
    "plt.scatter(X.ravel(), y);\n",
    "plt.plot(X.ravel(), y_new, color='red')\n",
    "plt.title('1 degree, rms = %.1f'%rms(y, y_new));"
   ]
  },
  {
   "cell_type": "code",
   "execution_count": 41,
   "metadata": {},
   "outputs": [
    {
     "data": {
      "text/plain": [
       "1.4167738123934264"
      ]
     },
     "execution_count": 41,
     "metadata": {},
     "output_type": "execute_result"
    }
   ],
   "source": [
    "from sklearn.metrics import mean_squared_error, make_scorer\n",
    "from math import sqrt\n",
    "\n",
    "rms1 = sqrt(mean_squared_error(y, y_new))\n",
    "rms1"
   ]
  },
  {
   "cell_type": "code",
   "execution_count": 42,
   "metadata": {},
   "outputs": [
    {
     "data": {
      "image/png": "[encoded data removed]",
      "text/plain": [
       "<Figure size 432x288 with 1 Axes>"
      ]
     },
     "metadata": {
      "needs_background": "light"
     },
     "output_type": "display_data"
    }
   ],
   "source": [
    "z2 = np.polyfit(X.ravel(), y, 2)\n",
    "f2 = np.poly1d(z2)\n",
    "y_new = f2(X.ravel())\n",
    "plt.scatter(X.ravel(), y);\n",
    "plt.plot(X.ravel(), y_new, color='red')\n",
    "plt.title('2 degree, rms = %.1f'%rms(y, y_new));"
   ]
  },
  {
   "cell_type": "code",
   "execution_count": 43,
   "metadata": {},
   "outputs": [
    {
     "data": {
      "text/plain": [
       "1.134207969060934"
      ]
     },
     "execution_count": 43,
     "metadata": {},
     "output_type": "execute_result"
    }
   ],
   "source": [
    "rms2 = sqrt(mean_squared_error(y, y_new))\n",
    "rms2"
   ]
  },
  {
   "cell_type": "code",
   "execution_count": 44,
   "metadata": {},
   "outputs": [],
   "source": [
    "from sklearn.preprocessing import PolynomialFeatures\n",
    "from sklearn.linear_model import LinearRegression\n",
    "from sklearn.pipeline import make_pipeline\n",
    "\n",
    "def PolynomialRegression(degree=2, **kwargs):\n",
    "    return make_pipeline(PolynomialFeatures(degree),\n",
    "                         LinearRegression(**kwargs))"
   ]
  },
  {
   "cell_type": "code",
   "execution_count": 45,
   "metadata": {},
   "outputs": [
    {
     "data": {
      "image/png": "[encoded data removed]",
      "text/plain": [
       "<Figure size 432x288 with 1 Axes>"
      ]
     },
     "metadata": {
      "needs_background": "light"
     },
     "output_type": "display_data"
    }
   ],
   "source": [
    "%matplotlib inline\n",
    "import matplotlib.pyplot as plt\n",
    "#import seaborn; seaborn.set()  # plot formatting\n",
    "\n",
    "X_test = np.linspace(-0.1, 1.1, 2*N)[:, None]\n",
    "\n",
    "plt.scatter(X.ravel(), y, color='black')\n",
    "plt.plot(X.ravel(), true_fun(X.ravel()), label='True', linestyle=\":\")\n",
    "\n",
    "axis = plt.axis()\n",
    "for degree in [1, 2, 3, 25]:\n",
    "    y_test = PolynomialRegression(degree).fit(X, y).predict(X_test)\n",
    "    y_fool = PolynomialRegression(degree).fit(X, y).predict(X)\n",
    "    rms_val = rms(y, y_fool)\n",
    "#    scores = cross_validation.cross_val_score(PolynomialRegression(degree),\n",
    "#        X, y, scoring=\"mean_squared_error\", cv=cv)\n",
    "    plt.plot(X_test.ravel(), y_test, label='degree={0}, RMS={1:.2f}'.format(degree, rms_val))\n",
    "plt.xlim(-0.1, 1.0)\n",
    "plt.ylim(-2, 12)\n",
    "plt.legend(loc='best');"
   ]
  },
  {
   "cell_type": "markdown",
   "metadata": {},
   "source": [
    "The difference in mean squared error follows chi-square distribution\n",
    "\n",
    "$$\\chi^2(x, \\nu) = \\frac{1}{2^{\\nu/2}\\Gamma \\left(\\frac{\\nu}{2}\\right)} x ^{\\frac{\\nu}{2}-1} \\exp \\left({-\\frac{1}{2}x}\\right)$$\n",
    "\n",
    "$\\nu \\approx \\nu_2 - \\nu_1$\n",
    "\n",
    "$\\nu_2 \\approx (N - d_2)$\n",
    "\n",
    "$\\nu_1 \\approx (N - d_1)$\n",
    "\n",
    "models are nested, therefore one can estimate degrees of freedom easily\n",
    "\n",
    "<img src=\"figures/help.gif\">"
   ]
  },
  {
   "cell_type": "markdown",
   "metadata": {},
   "source": [
    "**Cross-validation idea:**\n",
    "\n",
    "1. Split data **randomly** in two sets\n",
    "2. Fit data in each half\n",
    "3. Use the model and calculate the rms for the other half and vice versa\n",
    "4. Compare rms and cross-validated rms"
   ]
  },
  {
   "cell_type": "code",
   "execution_count": 46,
   "metadata": {},
   "outputs": [
    {
     "data": {
      "text/plain": [
       "<matplotlib.collections.PathCollection at 0x7fd585cd6220>"
      ]
     },
     "execution_count": 46,
     "metadata": {},
     "output_type": "execute_result"
    },
    {
     "data": {
      "image/png": "[encoded data removed]",
      "text/plain": [
       "<Figure size 432x288 with 1 Axes>"
      ]
     },
     "metadata": {
      "needs_background": "light"
     },
     "output_type": "display_data"
    }
   ],
   "source": [
    "ind = np.arange(N)\n",
    "np.random.shuffle(ind) # shuffle in place\n",
    "ind\n",
    "plt.scatter(X[ind[:N//2]].ravel(), y[ind[:N//2]], color='red')\n",
    "plt.scatter(X[ind[N//2:]].ravel(), y[ind[N//2:]], color='blue')"
   ]
  },
  {
   "cell_type": "code",
   "execution_count": 47,
   "metadata": {},
   "outputs": [
    {
     "data": {
      "image/png": "[encoded data removed]",
      "text/plain": [
       "<Figure size 864x288 with 2 Axes>"
      ]
     },
     "metadata": {
      "needs_background": "light"
     },
     "output_type": "display_data"
    }
   ],
   "source": [
    "degree = 1\n",
    "\n",
    "X1 = X[ind[:N//2]].ravel()\n",
    "y1 = y[ind[:N//2]]\n",
    "sind1 = X1.argsort()\n",
    "X1 = X1[sind1]\n",
    "y1 = y1[sind1]\n",
    "\n",
    "z1 = np.polyfit(X1, y1, degree)\n",
    "f1 = np.poly1d(z1)\n",
    "y_new1 = f2(X1)\n",
    "\n",
    "X2 = X[ind[N//2:]].ravel()\n",
    "y2 = y[ind[N//2:]]\n",
    "sind2 = X2.argsort()\n",
    "X2 = X2[sind2]\n",
    "y2 = y2[sind2]\n",
    "\n",
    "z2 = np.polyfit(X2, y2, degree)\n",
    "f2 = np.poly1d(z2)\n",
    "\n",
    "y_new1 = f2(X1)\n",
    "y_new2 = f1(X2)\n",
    "\n",
    "plt.figure(figsize=(12, 4))\n",
    "plt.subplot(121)\n",
    "plt.scatter(X1, y1, color='red');\n",
    "plt.plot(X1, y_new1, color='blue')\n",
    "plt.plot(X2, y_new2, \":\",color='red')\n",
    "plt.title('%i degree, rms = %.1f'%(degree, rms(y1, y_new1)))\n",
    "plt.xlim(-0.1,1.1)\n",
    "plt.ylim(2,12)\n",
    "plt.subplot(122)\n",
    "plt.scatter(X2, y2, color='blue');\n",
    "plt.plot(X2, y_new2, color='red')\n",
    "plt.plot(X1, y_new1, \":\",color='blue')\n",
    "plt.xlim(-0.1,1.1)\n",
    "plt.ylim(2,12)\n",
    "plt.title('%i degree, rms = %.1f'%(degree, rms(y2, y_new2)));"
   ]
  },
  {
   "cell_type": "code",
   "execution_count": 48,
   "metadata": {},
   "outputs": [],
   "source": [
    "from sklearn.model_selection import KFold\n",
    "from sklearn.model_selection import validation_curve\n",
    "\n",
    "X = X.reshape(-1, 1)\n",
    "y = y.reshape(-1, 1)\n",
    "\n",
    "cv = KFold(N, n_splits=2, shuffle=True, random_state=1)\n",
    "\n",
    "degree = np.arange(1, 10)\n",
    "                       \n",
    "train_score, val_score = validation_curve(PolynomialRegression(),\n",
    "                                          X, y,\n",
    "                                          param_name='polynomialfeatures__degree',\n",
    "                                          param_range=degree,\n",
    "                                          scoring=make_scorer(rms),\n",
    "                                          cv=cv,\n",
    "                                         )"
   ]
  },
  {
   "cell_type": "code",
   "execution_count": 49,
   "metadata": {},
   "outputs": [
    {
     "data": {
      "image/png": "[encoded data removed]",
      "text/plain": [
       "<Figure size 432x288 with 1 Axes>"
      ]
     },
     "metadata": {
      "needs_background": "light"
     },
     "output_type": "display_data"
    }
   ],
   "source": [
    "plt.plot(degree, np.median(train_score, 1), \"o-\", color='blue', label='training score')\n",
    "plt.plot(degree, np.median(val_score, 1), \"o-\", color='red', label='validation score')\n",
    "plt.legend(loc='best')\n",
    "#plt.ylim(-1, 1)\n",
    "plt.xlabel('degree')\n",
    "plt.ylabel('MSE');"
   ]
  },
  {
   "cell_type": "markdown",
   "metadata": {},
   "source": [
    "**Best model minimises the cross-validated error**"
   ]
  },
  {
   "cell_type": "markdown",
   "metadata": {},
   "source": [
    "<img src=\"figures/under-overfitting.png\" width=\"75%\" align=\"left\">"
   ]
  },
  {
   "cell_type": "code",
   "execution_count": 50,
   "metadata": {},
   "outputs": [
    {
     "data": {
      "image/png": "[encoded data removed]",
      "text/plain": [
       "<Figure size 432x288 with 1 Axes>"
      ]
     },
     "metadata": {
      "needs_background": "light"
     },
     "output_type": "display_data"
    }
   ],
   "source": [
    "X_test = np.linspace(-0.1, 1.1, 2*N)[:, None]\n",
    "\n",
    "plt.scatter(X.ravel(), y, color='black')\n",
    "plt.plot(X.ravel(), true_fun(X.ravel()), label='True', linestyle=\":\")\n",
    "\n",
    "degree = 30\n",
    "y_fool = PolynomialRegression(degree).fit(X, y).predict(X)\n",
    "rms_val = rms(y, y_fool)\n",
    "plt.plot(X.ravel(), y_fool, label='degree={0}, RMS={1:.2f}'.format(degree, rms_val))\n",
    "plt.xlim(-0.1, 1.0)\n",
    "plt.ylim(-2, 12)\n",
    "plt.legend(loc='best');"
   ]
  },
  {
   "cell_type": "markdown",
   "metadata": {},
   "source": [
    "Cross-validation is independent of the used model.\n",
    "\n",
    "You need a \"reasonable\" number of data points\n",
    "\n",
    "!!! Cross validation is often the only choice in machine learning, because the statistics of the models are typically not known !!!"
   ]
  },
  {
   "cell_type": "markdown",
   "metadata": {},
   "source": [
    "k-fold cross-validation is often used.\n",
    "<img src=\"figures/kfold-cv.png\" width=\"60%\">"
   ]
  },
  {
   "cell_type": "markdown",
   "metadata": {},
   "source": [
    "## Summary\n",
    "\n",
    "- Sometimes the questions are complicated but the answers  are simple\n",
    "- If you can write a for-loop you can do statistical analysis\n",
    "\n",
    "1. Direct simulation (to compare p-value and extremes)\n",
    "2. Shuffling (to test if two samples are drawn from the same distribution)\n",
    "3. Bootstrapping (for  uncertainty of fit parameters)\n",
    "4. Cross-validation (for choosing a better model)\n"
   ]
  },
  {
   "cell_type": "markdown",
   "metadata": {},
   "source": [
    "<img src=\"figures/wumo3.jpg\">"
   ]
  },
  {
   "cell_type": "code",
   "execution_count": null,
   "metadata": {},
   "outputs": [],
   "source": []
  }
 ],
 "metadata": {
  "kernelspec": {
   "display_name": "Python 3",
   "language": "python",
   "name": "python3"
  },
  "language_info": {
   "codemirror_mode": {
    "name": "ipython",
    "version": 3
   },
   "file_extension": ".py",
   "mimetype": "text/x-python",
   "name": "python",
   "nbconvert_exporter": "python",
   "pygments_lexer": "ipython3",
   "version": "3.8.5"
  }
 },
 "nbformat": 4,
 "nbformat_minor": 4
}
