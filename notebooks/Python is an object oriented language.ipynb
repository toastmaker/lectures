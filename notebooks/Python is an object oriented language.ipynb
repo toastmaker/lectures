{
 "cells": [
  {
   "cell_type": "markdown",
   "id": "f5c82984",
   "metadata": {},
   "source": [
    "### Intermezzo on how to autoreload modules in ipynb"
   ]
  },
  {
   "cell_type": "code",
   "execution_count": 2,
   "id": "41b10ba4",
   "metadata": {},
   "outputs": [
    {
     "name": "stdout",
     "output_type": "stream",
     "text": [
      "funny.py\r\n"
     ]
    }
   ],
   "source": [
    "! ls funny.py"
   ]
  },
  {
   "cell_type": "code",
   "execution_count": 3,
   "id": "a33514d8",
   "metadata": {},
   "outputs": [
    {
     "name": "stdout",
     "output_type": "stream",
     "text": [
      "def make_fun():\r\n",
      "\tprint(\"To je legrace!!!\")\r\n",
      "\r\n"
     ]
    }
   ],
   "source": [
    "! cat funny.py"
   ]
  },
  {
   "cell_type": "code",
   "execution_count": 6,
   "id": "471be851",
   "metadata": {},
   "outputs": [],
   "source": [
    "from funny import make_fun"
   ]
  },
  {
   "cell_type": "code",
   "execution_count": 10,
   "id": "6d75a833",
   "metadata": {},
   "outputs": [
    {
     "name": "stdout",
     "output_type": "stream",
     "text": [
      "To je HODNE VELKA legrace!!!\n"
     ]
    }
   ],
   "source": [
    "make_fun()"
   ]
  },
  {
   "cell_type": "code",
   "execution_count": 8,
   "id": "2d602cac",
   "metadata": {},
   "outputs": [],
   "source": [
    "%load_ext autoreload"
   ]
  },
  {
   "cell_type": "code",
   "execution_count": 9,
   "id": "e4224f4c",
   "metadata": {},
   "outputs": [],
   "source": [
    "%autoreload 2"
   ]
  },
  {
   "cell_type": "code",
   "execution_count": 161,
   "id": "ab3c56ef",
   "metadata": {},
   "outputs": [],
   "source": [
    "import matplotlib.pyplot as plt\n",
    "import numpy as np"
   ]
  },
  {
   "cell_type": "markdown",
   "id": "02fcf7c9",
   "metadata": {},
   "source": [
    "# Python je objektově orientovaný jazyk\n",
    "\n",
    "Objekt je kontejner, který může obsahovat dohromady proměnné a funkce, které spolu nějak logicky souvisí. Funkcím uvnitř objektů se z historických důvodů říká metody."
   ]
  },
  {
   "cell_type": "code",
   "execution_count": 283,
   "id": "33faaa8f",
   "metadata": {},
   "outputs": [],
   "source": [
    "class Pes():   # trida, recept,  jak objekt Pes vypada\n",
    "    latino = \"Canis\" #  promenne, ktere jsou *mimo* metody jsou stejne pro vsechny instance\n",
    "    \n",
    "    def __init__(self, name, age): # konstruktor, ktery umi vyrobit objekt typu Pes\n",
    "        self.jmeno = name # promenne patrici danemu objektu jsou uvnitr objektu\n",
    "                          # pristupne pres kouzelne sluvko 'self.'\n",
    "        self.vek = age\n",
    "    \n",
    "    def stekej(self, nkrat=1): # funkce (metoda)\n",
    "        for i in range(nkrat):\n",
    "            print(\"Haf!\")\n",
    "            \n",
    "    def __str__(self): # jina funkce\n",
    "        return \"Ja jsem {0}\".format(self.jmeno)\n",
    "    \n",
    "# Tento Pes je tedy takovy kontejner, ktery obsahuje promenne\n",
    "# self.jmeno,  self.vek, self.latino a metody (funkce)\n",
    "# stekej a __str__"
   ]
  },
  {
   "cell_type": "code",
   "execution_count": 257,
   "id": "3b126320",
   "metadata": {},
   "outputs": [],
   "source": [
    "pes1 = Pes(\"Amina\", 8) # instance pes1 tridy Pes\n",
    "pes2 = Pes(\"Bobik\", 5) # instance pes2 tridy Pes"
   ]
  },
  {
   "cell_type": "code",
   "execution_count": 167,
   "id": "775d89fd",
   "metadata": {},
   "outputs": [
    {
     "name": "stdout",
     "output_type": "stream",
     "text": [
      "Ja jsem Amina\n"
     ]
    }
   ],
   "source": [
    "print(pes1) # pridali jsme __str__\n",
    "# kdyz se snazime vytisknout objekt, Pythonu zkusi,\n",
    "# jestli je definovana metoda __str__"
   ]
  },
  {
   "cell_type": "code",
   "execution_count": 168,
   "id": "2faa88ac",
   "metadata": {},
   "outputs": [],
   "source": [
    "x = np.array([1,2,3])"
   ]
  },
  {
   "cell_type": "code",
   "execution_count": 169,
   "id": "2363c1dc",
   "metadata": {},
   "outputs": [
    {
     "data": {
      "text/plain": [
       "3"
      ]
     },
     "execution_count": 169,
     "metadata": {},
     "output_type": "execute_result"
    }
   ],
   "source": [
    "x.max()"
   ]
  },
  {
   "cell_type": "code",
   "execution_count": 170,
   "id": "621ea103",
   "metadata": {},
   "outputs": [
    {
     "data": {
      "text/plain": [
       "('Amina', 8, 'Canis')"
      ]
     },
     "execution_count": 170,
     "metadata": {},
     "output_type": "execute_result"
    }
   ],
   "source": [
    "pes1.jmeno, pes1.vek, pes1.latino"
   ]
  },
  {
   "cell_type": "code",
   "execution_count": 172,
   "id": "1dde4983",
   "metadata": {},
   "outputs": [
    {
     "name": "stdout",
     "output_type": "stream",
     "text": [
      "Haf!\n",
      "Haf!\n",
      "Haf!\n"
     ]
    }
   ],
   "source": [
    "pes1.stekej(3)"
   ]
  },
  {
   "cell_type": "code",
   "execution_count": 255,
   "id": "44cd1c08",
   "metadata": {},
   "outputs": [
    {
     "name": "stdout",
     "output_type": "stream",
     "text": [
      "Haf!\n",
      "Haf!\n",
      "Haf!\n",
      "Haf!\n",
      "Haf!\n"
     ]
    },
    {
     "data": {
      "text/plain": [
       "('Bobik', 5, 'Canis')"
      ]
     },
     "execution_count": 255,
     "metadata": {},
     "output_type": "execute_result"
    }
   ],
   "source": [
    "pes2.stekej(5)\n",
    "pes2.jmeno, pes2.vek, pes2.latino,"
   ]
  },
  {
   "cell_type": "code",
   "execution_count": 174,
   "id": "410645d6",
   "metadata": {},
   "outputs": [
    {
     "data": {
      "text/plain": [
       "'Alik'"
      ]
     },
     "execution_count": 174,
     "metadata": {},
     "output_type": "execute_result"
    }
   ],
   "source": [
    "p = Pes(\"Alik\", 0.5)\n",
    "p.jmeno"
   ]
  },
  {
   "cell_type": "code",
   "execution_count": 175,
   "id": "924abc1c",
   "metadata": {},
   "outputs": [
    {
     "data": {
      "text/plain": [
       "0.5"
      ]
     },
     "execution_count": 175,
     "metadata": {},
     "output_type": "execute_result"
    }
   ],
   "source": [
    "p.vek"
   ]
  },
  {
   "cell_type": "code",
   "execution_count": 176,
   "id": "3a1e4bde",
   "metadata": {},
   "outputs": [
    {
     "name": "stdout",
     "output_type": "stream",
     "text": [
      "Haf!\n"
     ]
    }
   ],
   "source": [
    "p.stekej()"
   ]
  },
  {
   "cell_type": "code",
   "execution_count": 177,
   "id": "7abc29fb",
   "metadata": {},
   "outputs": [],
   "source": [
    "class Star:\n",
    "    def __init__(self, x,y, name):\n",
    "        self.x = x\n",
    "        self.y = y\n",
    "        self.name = name\n",
    "        \n",
    "    def distance_from(self, x0, y0):\n",
    "        dist = np.sqrt( ( self.x - x0)**2 + ( self.y - y0)**2 )\n",
    "        return dist\n",
    "    \n",
    "    def display(self):\n",
    "        plt.plot([self.x],[self.y],\"o\")\n",
    "        plt.text(self.x, self.y, self.name)"
   ]
  },
  {
   "cell_type": "code",
   "execution_count": 178,
   "id": "85dc69db",
   "metadata": {},
   "outputs": [],
   "source": [
    "a = Star(10,20,\"Alfa Centauri\")\n",
    "b = Star(30,15, \"Beta Persei\")"
   ]
  },
  {
   "cell_type": "code",
   "execution_count": 180,
   "id": "0294db30",
   "metadata": {},
   "outputs": [
    {
     "data": {
      "text/plain": [
       "(10, 20, 'Alfa Centauri')"
      ]
     },
     "execution_count": 180,
     "metadata": {},
     "output_type": "execute_result"
    }
   ],
   "source": [
    "a.x, a.y, a.name"
   ]
  },
  {
   "cell_type": "code",
   "execution_count": 181,
   "id": "1f561803",
   "metadata": {},
   "outputs": [],
   "source": [
    "image = [a,b]"
   ]
  },
  {
   "cell_type": "code",
   "execution_count": 182,
   "id": "53987043",
   "metadata": {},
   "outputs": [
    {
     "data": {
      "text/plain": [
       "[<__main__.Star at 0x7f833219a580>, <__main__.Star at 0x7f833219a8e0>]"
      ]
     },
     "execution_count": 182,
     "metadata": {},
     "output_type": "execute_result"
    }
   ],
   "source": [
    "image"
   ]
  },
  {
   "cell_type": "code",
   "execution_count": 183,
   "id": "dcc26e19",
   "metadata": {},
   "outputs": [
    {
     "data": {
      "image/png": "[encoded data removed]",
      "text/plain": [
       "<Figure size 432x288 with 1 Axes>"
      ]
     },
     "metadata": {
      "needs_background": "light"
     },
     "output_type": "display_data"
    }
   ],
   "source": [
    "for o in image:\n",
    "    o.display()"
   ]
  },
  {
   "cell_type": "code",
   "execution_count": 184,
   "id": "7570b633",
   "metadata": {},
   "outputs": [
    {
     "data": {
      "text/plain": [
       "20.615528128088304"
      ]
     },
     "execution_count": 184,
     "metadata": {},
     "output_type": "execute_result"
    }
   ],
   "source": [
    "a.distance_from(b.x, b.y)"
   ]
  },
  {
   "cell_type": "code",
   "execution_count": 185,
   "id": "83700ac8",
   "metadata": {},
   "outputs": [],
   "source": [
    "class Galaxy(Star):\n",
    "    def __init__(self, x,y,name,r):\n",
    "        super().__init__(x,y,name) ## self.x = x, self.y = y, self.name=name\n",
    "        # super() odkazuje na \n",
    "        self.r = r\n",
    "        \n",
    "    def display(self):\n",
    "        plt.scatter([self.x],[self.y],s=[self.r**2])\n",
    "        plt.text(self.x, self.y, self.name)"
   ]
  },
  {
   "cell_type": "code",
   "execution_count": 186,
   "id": "8e3054ac",
   "metadata": {},
   "outputs": [],
   "source": [
    "g = Galaxy(4,26,\"M31\",r=40)"
   ]
  },
  {
   "cell_type": "code",
   "execution_count": 187,
   "id": "73a3ee94",
   "metadata": {},
   "outputs": [
    {
     "data": {
      "image/png": "[encoded data removed]",
      "text/plain": [
       "<Figure size 432x288 with 1 Axes>"
      ]
     },
     "metadata": {
      "needs_background": "light"
     },
     "output_type": "display_data"
    }
   ],
   "source": [
    "g.display()"
   ]
  },
  {
   "cell_type": "code",
   "execution_count": 188,
   "id": "a9a75d28",
   "metadata": {},
   "outputs": [
    {
     "data": {
      "image/png": "[encoded data removed]",
      "text/plain": [
       "<Figure size 432x288 with 1 Axes>"
      ]
     },
     "metadata": {
      "needs_background": "light"
     },
     "output_type": "display_data"
    }
   ],
   "source": [
    "foto = [a,b,g]\n",
    "for astro in foto:\n",
    "    astro.display()"
   ]
  },
  {
   "cell_type": "code",
   "execution_count": 189,
   "id": "b76ca86b",
   "metadata": {},
   "outputs": [],
   "source": [
    "class Astrosource:\n",
    "    def __init__(self, x,y, name):\n",
    "        self.x = x\n",
    "        self.y = y\n",
    "        self.name = name\n",
    "        \n",
    "    def distance_from(self, x0, y0):\n",
    "        dist = np.sqrt( ( self.x - x0)**2 + ( self.y - y0)**2 )\n",
    "        return dist\n",
    "    \n",
    "    def display(self):\n",
    "        plt.plot([self.x],[self.y],\"o\")\n",
    "        plt.text(self.x, self.y, self.name)\n"
   ]
  },
  {
   "cell_type": "code",
   "execution_count": 193,
   "id": "ad52c48e",
   "metadata": {},
   "outputs": [],
   "source": [
    "class Star(Astrosource):\n",
    "    def __init__(self, x,y,name,T):\n",
    "        super().__init__(x,y,name)\n",
    "        self.T = T\n",
    "        \n",
    "    def display(self):\n",
    "        if self.T < 6000:\n",
    "            c = 'red'\n",
    "        else:\n",
    "            c = 'blue'\n",
    "        plt.plot([self.x],[self.y],\"o\", color=c)\n",
    "        plt.text(self.x, self.y, self.name)"
   ]
  },
  {
   "cell_type": "code",
   "execution_count": 194,
   "id": "1b3fd6ed",
   "metadata": {},
   "outputs": [],
   "source": [
    "a = Star(20,30,\"alfa\", 3000.)"
   ]
  },
  {
   "cell_type": "code",
   "execution_count": 195,
   "id": "c9d11766",
   "metadata": {},
   "outputs": [
    {
     "data": {
      "text/plain": [
       "3000.0"
      ]
     },
     "execution_count": 195,
     "metadata": {},
     "output_type": "execute_result"
    }
   ],
   "source": [
    "a.T"
   ]
  },
  {
   "cell_type": "code",
   "execution_count": 196,
   "id": "03d62098",
   "metadata": {},
   "outputs": [
    {
     "data": {
      "image/png": "[encoded data removed]",
      "text/plain": [
       "<Figure size 432x288 with 1 Axes>"
      ]
     },
     "metadata": {
      "needs_background": "light"
     },
     "output_type": "display_data"
    }
   ],
   "source": [
    "a.display()"
   ]
  },
  {
   "cell_type": "code",
   "execution_count": 200,
   "id": "e78e1bae",
   "metadata": {},
   "outputs": [],
   "source": [
    "class Galaxy(Astrosource):\n",
    "    def __init__(self, x,y,name,r):\n",
    "        super().__init__(x,y,name) ## self.x = x, self.y = y, self.name=name\n",
    "        self.r = r\n",
    "    \n",
    "    def distance_from(self, x0, y0):\n",
    "        dist = ( ( self.x - x0)**2 + ( self.y - y0)**2 )**(-1/4.)\n",
    "        # moje pofiderni pocitani vzdalenosti pro galaxie, asi zakrivuji casoprostor...\n",
    "        return dist\n",
    "    \n",
    "    def display(self):\n",
    "        plt.scatter([self.x],[self.y],s=[self.r**2])\n",
    "        plt.text(self.x, self.y, self.name)"
   ]
  },
  {
   "cell_type": "code",
   "execution_count": 201,
   "id": "a0f7acc4",
   "metadata": {},
   "outputs": [],
   "source": [
    "g = Galaxy(45,2, \"M31\", 100)"
   ]
  },
  {
   "cell_type": "code",
   "execution_count": 202,
   "id": "7cdd2ec7",
   "metadata": {},
   "outputs": [
    {
     "data": {
      "text/plain": [
       "0.14899767384211135"
      ]
     },
     "execution_count": 202,
     "metadata": {},
     "output_type": "execute_result"
    }
   ],
   "source": [
    "g.distance_from(0,0)"
   ]
  },
  {
   "cell_type": "code",
   "execution_count": 203,
   "id": "66e64364",
   "metadata": {},
   "outputs": [],
   "source": [
    "from scipy import interpolate"
   ]
  },
  {
   "cell_type": "code",
   "execution_count": 204,
   "id": "7846b9c5",
   "metadata": {},
   "outputs": [],
   "source": [
    "x = np.arange(0,10)\n",
    "y = np.exp(-x/5.)"
   ]
  },
  {
   "cell_type": "code",
   "execution_count": 205,
   "id": "d56df5ba",
   "metadata": {},
   "outputs": [
    {
     "data": {
      "text/plain": [
       "[<matplotlib.lines.Line2D at 0x7f83325efb50>]"
      ]
     },
     "execution_count": 205,
     "metadata": {},
     "output_type": "execute_result"
    },
    {
     "data": {
      "image/png": "[encoded data removed]",
      "text/plain": [
       "<Figure size 432x288 with 1 Axes>"
      ]
     },
     "metadata": {
      "needs_background": "light"
     },
     "output_type": "display_data"
    }
   ],
   "source": [
    "plt.plot(x,y,\"o\")"
   ]
  },
  {
   "cell_type": "code",
   "execution_count": 210,
   "id": "749985a4",
   "metadata": {},
   "outputs": [],
   "source": [
    "f = interpolate.interp1d(x,y) # konstruktor"
   ]
  },
  {
   "cell_type": "code",
   "execution_count": 213,
   "id": "1e17318a",
   "metadata": {},
   "outputs": [
    {
     "data": {
      "text/plain": [
       "False"
      ]
     },
     "execution_count": 213,
     "metadata": {},
     "output_type": "execute_result"
    }
   ],
   "source": [
    "f.bounds_error = False\n",
    "f.bounds_error"
   ]
  },
  {
   "cell_type": "code",
   "execution_count": 214,
   "id": "aef71d0c",
   "metadata": {},
   "outputs": [
    {
     "data": {
      "text/plain": [
       "array([0. , 0.1, 0.2, 0.3, 0.4, 0.5, 0.6, 0.7, 0.8, 0.9, 1. , 1.1, 1.2,\n",
       "       1.3, 1.4, 1.5, 1.6, 1.7, 1.8, 1.9, 2. , 2.1, 2.2, 2.3, 2.4, 2.5,\n",
       "       2.6, 2.7, 2.8, 2.9, 3. , 3.1, 3.2, 3.3, 3.4, 3.5, 3.6, 3.7, 3.8,\n",
       "       3.9, 4. , 4.1, 4.2, 4.3, 4.4, 4.5, 4.6, 4.7, 4.8, 4.9, 5. , 5.1,\n",
       "       5.2, 5.3, 5.4, 5.5, 5.6, 5.7, 5.8, 5.9, 6. , 6.1, 6.2, 6.3, 6.4,\n",
       "       6.5, 6.6, 6.7, 6.8, 6.9, 7. , 7.1, 7.2, 7.3, 7.4, 7.5, 7.6, 7.7,\n",
       "       7.8, 7.9, 8. , 8.1, 8.2, 8.3, 8.4, 8.5, 8.6, 8.7, 8.8, 8.9, 9. ,\n",
       "       9.1, 9.2, 9.3, 9.4, 9.5, 9.6, 9.7, 9.8, 9.9])"
      ]
     },
     "execution_count": 214,
     "metadata": {},
     "output_type": "execute_result"
    }
   ],
   "source": [
    "x_new = np.arange(0,10,0.1)\n",
    "x_new"
   ]
  },
  {
   "cell_type": "code",
   "execution_count": 215,
   "id": "0b5a3638",
   "metadata": {},
   "outputs": [],
   "source": [
    "y_new = f(x_new) # f.__call__(x_new)"
   ]
  },
  {
   "cell_type": "code",
   "execution_count": 216,
   "id": "e14c9a4d",
   "metadata": {},
   "outputs": [
    {
     "data": {
      "text/plain": [
       "[<matplotlib.lines.Line2D at 0x7f83326d7dc0>]"
      ]
     },
     "execution_count": 216,
     "metadata": {},
     "output_type": "execute_result"
    },
    {
     "data": {
      "image/png": "[encoded data removed]",
      "text/plain": [
       "<Figure size 432x288 with 1 Axes>"
      ]
     },
     "metadata": {
      "needs_background": "light"
     },
     "output_type": "display_data"
    }
   ],
   "source": [
    "plt.plot(x_new, y_new,\"o\")\n",
    "plt.plot(x,y,\"o\")"
   ]
  },
  {
   "cell_type": "code",
   "execution_count": 217,
   "id": "5980115a",
   "metadata": {},
   "outputs": [],
   "source": [
    "# from sklearn # scikit-learn\n",
    "def generate_data(N=20):\n",
    "    x = np.random.random(N)\n",
    "    sigmy_y = 0.1 * np.ones(N)\n",
    "    y = x - 0.2 + sigmy_y * np.random.randn(N)\n",
    "    return np.vstack([x,y])"
   ]
  },
  {
   "cell_type": "code",
   "execution_count": 218,
   "id": "4b487f39",
   "metadata": {},
   "outputs": [],
   "source": [
    "x,y = generate_data()"
   ]
  },
  {
   "cell_type": "code",
   "execution_count": 219,
   "id": "8473bbb8",
   "metadata": {},
   "outputs": [
    {
     "data": {
      "text/plain": [
       "[<matplotlib.lines.Line2D at 0x7f8332759a30>]"
      ]
     },
     "execution_count": 219,
     "metadata": {},
     "output_type": "execute_result"
    },
    {
     "data": {
      "image/png": "[encoded data removed]",
      "text/plain": [
       "<Figure size 432x288 with 1 Axes>"
      ]
     },
     "metadata": {
      "needs_background": "light"
     },
     "output_type": "display_data"
    }
   ],
   "source": [
    "plt.plot(x,y,\"o\")"
   ]
  },
  {
   "cell_type": "code",
   "execution_count": 220,
   "id": "cbdbcbba",
   "metadata": {},
   "outputs": [],
   "source": [
    "from sklearn.linear_model import LinearRegression"
   ]
  },
  {
   "cell_type": "code",
   "execution_count": 221,
   "id": "4e1b54cf",
   "metadata": {},
   "outputs": [],
   "source": [
    "model = LinearRegression()"
   ]
  },
  {
   "cell_type": "code",
   "execution_count": 230,
   "id": "79e97667",
   "metadata": {},
   "outputs": [],
   "source": [
    "X = x[:,np.newaxis] # autori v sklearn chteji, aby vstup pro metodu fit byl ve \n",
    "# formatu fit( matice_X, vektor_y), tak  z 1D vektoru o N  prvcich delame\n",
    "# matici o rozmerech N x 1"
   ]
  },
  {
   "cell_type": "code",
   "execution_count": 231,
   "id": "1dc4045d",
   "metadata": {},
   "outputs": [
    {
     "data": {
      "text/plain": [
       "((20,), (20, 1))"
      ]
     },
     "execution_count": 231,
     "metadata": {},
     "output_type": "execute_result"
    }
   ],
   "source": [
    "x.shape, X.shape"
   ]
  },
  {
   "cell_type": "code",
   "execution_count": 232,
   "id": "decdba17",
   "metadata": {},
   "outputs": [
    {
     "data": {
      "text/plain": [
       "LinearRegression()"
      ]
     },
     "execution_count": 232,
     "metadata": {},
     "output_type": "execute_result"
    }
   ],
   "source": [
    "model.fit(X,y)"
   ]
  },
  {
   "cell_type": "code",
   "execution_count": 233,
   "id": "d8cdd2f5",
   "metadata": {},
   "outputs": [
    {
     "data": {
      "text/plain": [
       "(-0.0990825348565717, array([0.86366956]))"
      ]
     },
     "execution_count": 233,
     "metadata": {},
     "output_type": "execute_result"
    }
   ],
   "source": [
    "model.intercept_, model.coef_"
   ]
  },
  {
   "cell_type": "code",
   "execution_count": 234,
   "id": "80cf2bb3",
   "metadata": {},
   "outputs": [],
   "source": [
    "x_new = np.linspace(0,1,20)[:,np.newaxis]\n",
    "y_fit = model.predict(x_new)"
   ]
  },
  {
   "cell_type": "code",
   "execution_count": 235,
   "id": "32a6d573",
   "metadata": {},
   "outputs": [
    {
     "data": {
      "text/plain": [
       "[<matplotlib.lines.Line2D at 0x7f8332426d00>]"
      ]
     },
     "execution_count": 235,
     "metadata": {},
     "output_type": "execute_result"
    },
    {
     "data": {
      "image/png": "[encoded data removed]",
      "text/plain": [
       "<Figure size 432x288 with 1 Axes>"
      ]
     },
     "metadata": {
      "needs_background": "light"
     },
     "output_type": "display_data"
    }
   ],
   "source": [
    "plt.plot(x,y,\"o\")\n",
    "plt.plot(x_new, y_fit,\":\")"
   ]
  },
  {
   "cell_type": "code",
   "execution_count": 236,
   "id": "d49d8c1e",
   "metadata": {},
   "outputs": [],
   "source": [
    "from sklearn.svm import SVR\n",
    "\n",
    "model2 = SVR(kernel=\"rbf\")\n",
    "model2.fit(X,y)\n",
    "y_new = model2.predict(x_new)"
   ]
  },
  {
   "cell_type": "code",
   "execution_count": 237,
   "id": "4bfdebaa",
   "metadata": {},
   "outputs": [
    {
     "data": {
      "text/plain": [
       "[<matplotlib.lines.Line2D at 0x7f83323109d0>]"
      ]
     },
     "execution_count": 237,
     "metadata": {},
     "output_type": "execute_result"
    },
    {
     "data": {
      "image/png": "[encoded data removed]",
      "text/plain": [
       "<Figure size 432x288 with 1 Axes>"
      ]
     },
     "metadata": {
      "needs_background": "light"
     },
     "output_type": "display_data"
    }
   ],
   "source": [
    "plt.plot(x,y,\"o\")\n",
    "plt.plot(x_new, y_new,\":\")"
   ]
  },
  {
   "cell_type": "code",
   "execution_count": 238,
   "id": "9aef266f",
   "metadata": {},
   "outputs": [
    {
     "data": {
      "text/plain": [
       "0.8130984541122197"
      ]
     },
     "execution_count": 238,
     "metadata": {},
     "output_type": "execute_result"
    }
   ],
   "source": [
    "model.score(X,y)"
   ]
  },
  {
   "cell_type": "code",
   "execution_count": 239,
   "id": "963fbcf0",
   "metadata": {},
   "outputs": [
    {
     "data": {
      "text/plain": [
       "0.8519529495018997"
      ]
     },
     "execution_count": 239,
     "metadata": {},
     "output_type": "execute_result"
    }
   ],
   "source": [
    "model2.score(X,y)"
   ]
  },
  {
   "cell_type": "code",
   "execution_count": 240,
   "id": "b361fa31",
   "metadata": {},
   "outputs": [],
   "source": [
    "a = np.array([1,2,4])"
   ]
  },
  {
   "cell_type": "code",
   "execution_count": 241,
   "id": "e470fc7a",
   "metadata": {},
   "outputs": [
    {
     "data": {
      "text/plain": [
       "4"
      ]
     },
     "execution_count": 241,
     "metadata": {},
     "output_type": "execute_result"
    }
   ],
   "source": [
    "np.max(a)"
   ]
  },
  {
   "cell_type": "code",
   "execution_count": 242,
   "id": "f334db25",
   "metadata": {},
   "outputs": [
    {
     "data": {
      "text/plain": [
       "4"
      ]
     },
     "execution_count": 242,
     "metadata": {},
     "output_type": "execute_result"
    }
   ],
   "source": [
    "a.max()"
   ]
  },
  {
   "cell_type": "code",
   "execution_count": 243,
   "id": "b62bb018",
   "metadata": {},
   "outputs": [
    {
     "data": {
      "text/plain": [
       "3"
      ]
     },
     "execution_count": 243,
     "metadata": {},
     "output_type": "execute_result"
    }
   ],
   "source": [
    "a.size"
   ]
  },
  {
   "cell_type": "code",
   "execution_count": 244,
   "id": "154691e2",
   "metadata": {},
   "outputs": [],
   "source": [
    "# class array\n",
    "#  ....\n",
    "#     self.size = len(vector)"
   ]
  },
  {
   "cell_type": "code",
   "execution_count": 245,
   "id": "e71a1f1c",
   "metadata": {},
   "outputs": [
    {
     "name": "stdout",
     "output_type": "stream",
     "text": [
      "Model  LinearRegression  dosahl skore  0.813\n",
      "Model  SVR  dosahl skore  0.852\n"
     ]
    }
   ],
   "source": [
    "models = [LinearRegression, SVR]\n",
    "pars = [None, {'kernel':'rbf'}]\n",
    "\n",
    "for M, par in zip(models, pars):\n",
    "    if par:\n",
    "        model = M(**par)\n",
    "    else:\n",
    "        model = M()\n",
    "    model.fit(X,y)\n",
    "    score = model.score(X,y)\n",
    "    print(\"Model \", M.__name__, \" dosahl skore \", round(score,3) )"
   ]
  },
  {
   "cell_type": "code",
   "execution_count": 246,
   "id": "9435cf41",
   "metadata": {},
   "outputs": [
    {
     "name": "stdout",
     "output_type": "stream",
     "text": [
      "1 ja\n",
      "2 ty\n",
      "3 hroch\n"
     ]
    }
   ],
   "source": [
    "a = [ 1,2,3]\n",
    "b = [\"ja\", \"ty\", \"hroch\"]\n",
    "\n",
    "for i in range(len(a)):\n",
    "    print( a[i], b[i])\n",
    "    \n",
    "    "
   ]
  },
  {
   "cell_type": "code",
   "execution_count": 247,
   "id": "44f62927",
   "metadata": {},
   "outputs": [
    {
     "name": "stdout",
     "output_type": "stream",
     "text": [
      "1 ja 1\n",
      "2 ty 2\n",
      "3 hroch 3\n"
     ]
    }
   ],
   "source": [
    "for cislo, jmeno, i in zip(a, b, a):\n",
    "    print( cislo, jmeno, i)"
   ]
  },
  {
   "cell_type": "code",
   "execution_count": 248,
   "id": "7db793df",
   "metadata": {},
   "outputs": [],
   "source": [
    "def f(x,y,z):\n",
    "    return x+y+z"
   ]
  },
  {
   "cell_type": "code",
   "execution_count": 249,
   "id": "e1017074",
   "metadata": {},
   "outputs": [
    {
     "data": {
      "text/plain": [
       "15"
      ]
     },
     "execution_count": 249,
     "metadata": {},
     "output_type": "execute_result"
    }
   ],
   "source": [
    "f(1,4,10)"
   ]
  },
  {
   "cell_type": "code",
   "execution_count": 250,
   "id": "2901ab55",
   "metadata": {},
   "outputs": [
    {
     "data": {
      "text/plain": [
       "15"
      ]
     },
     "execution_count": 250,
     "metadata": {},
     "output_type": "execute_result"
    }
   ],
   "source": [
    "arg = [1,4,10]\n",
    "f(*arg) # * ---> [1,4,10] --> 1, 4, 10"
   ]
  },
  {
   "cell_type": "code",
   "execution_count": 251,
   "id": "1198989f",
   "metadata": {},
   "outputs": [],
   "source": [
    "def f(x=10, y=20, z=30):\n",
    "    return x+y+z"
   ]
  },
  {
   "cell_type": "code",
   "execution_count": 252,
   "id": "ce587c46",
   "metadata": {},
   "outputs": [
    {
     "data": {
      "text/plain": [
       "140"
      ]
     },
     "execution_count": 252,
     "metadata": {},
     "output_type": "execute_result"
    }
   ],
   "source": [
    "f(y=100)"
   ]
  },
  {
   "cell_type": "code",
   "execution_count": 253,
   "id": "bd41921a",
   "metadata": {},
   "outputs": [],
   "source": [
    "arg = { 'x': 10, 'y': 40, 'z': 100}"
   ]
  },
  {
   "cell_type": "code",
   "execution_count": 254,
   "id": "7a7c5997",
   "metadata": {},
   "outputs": [
    {
     "data": {
      "text/plain": [
       "150"
      ]
     },
     "execution_count": 254,
     "metadata": {},
     "output_type": "execute_result"
    }
   ],
   "source": [
    "f(**arg) # f(x= arg['x'], y = arg['y'], z= arg['z'])"
   ]
  },
  {
   "cell_type": "markdown",
   "id": "7578eaab",
   "metadata": {},
   "source": [
    "Benefits of the objects:\n",
    "\n",
    "- follow better the logic what is related to what\n",
    "- you can inherit parts of the existing code and update only small parts adjusting it to your actual needs. It's much safer than copy and paste\n",
    "- many different objects of the 'same kind' can use same interface\n",
    "\n",
    "You can live easily without using the benefits objects, for example in our case, you can create a vector of astro object names, another vector for x-position, y-position, etc... and write general functions that meeasure the distance and do plotting... For stars you can set the radius to -1 or None... but objects are more fancy and easier to read.\n",
    "\n",
    "Don't get too mad and don't write objects everywhere... Keep in mind that many operations are much faster on vectors using *numpy*! If you have the positions of all star and you want to calculate the position of the centre of the star cluster, it's definitely faster to store the x and y positions in an numpy array and calculate the *np.mean(x)*, *np.mean(y)*, than to loop over all the *Astrosource* objects in a for-loop... The later is easier to read but much slower:\n",
    "\n",
    "However, if you have N astronomical sources, each with a different spectrum, it make sense to have one general object for a spectrum and to have object children for generating different spectral variations (power-law, black-body, spectrum with spectral lines...)"
   ]
  },
  {
   "cell_type": "code",
   "execution_count": 279,
   "id": "ffae6846",
   "metadata": {},
   "outputs": [
    {
     "name": "stdout",
     "output_type": "stream",
     "text": [
      "78.0 18.333333333333332\n"
     ]
    }
   ],
   "source": [
    "x = np.array([1.,230.,3.])\n",
    "y = np.array([10.,32.,13.])\n",
    "centre_x = np.mean(x)\n",
    "centre_y = np.mean(y)\n",
    "print(centre_x, centre_y)"
   ]
  },
  {
   "cell_type": "code",
   "execution_count": 280,
   "id": "d95db446",
   "metadata": {},
   "outputs": [],
   "source": [
    "class Source():\n",
    "    def __init__(self,x,y):\n",
    "        self.x = x\n",
    "        self.y = y"
   ]
  },
  {
   "cell_type": "code",
   "execution_count": 281,
   "id": "8d925f54",
   "metadata": {},
   "outputs": [
    {
     "name": "stdout",
     "output_type": "stream",
     "text": [
      "78.0 18.333333333333332\n"
     ]
    }
   ],
   "source": [
    "seznam = [Source(1,10), Source(230,32), Source(3,13)]\n",
    "centre_x = 0\n",
    "centre_y = 0\n",
    "for o in seznam:\n",
    "    centre_x += o.x\n",
    "    centre_y += o.y\n",
    "centre_x = centre_x/len(seznam)\n",
    "centre_y = centre_y/len(seznam)\n",
    "print(centre_x, centre_y)"
   ]
  },
  {
   "cell_type": "code",
   "execution_count": null,
   "id": "42fd2f7d",
   "metadata": {},
   "outputs": [],
   "source": []
  }
 ],
 "metadata": {
  "kernelspec": {
   "display_name": "Python 3",
   "language": "python",
   "name": "python3"
  },
  "language_info": {
   "codemirror_mode": {
    "name": "ipython",
    "version": 3
   },
   "file_extension": ".py",
   "mimetype": "text/x-python",
   "name": "python",
   "nbconvert_exporter": "python",
   "pygments_lexer": "ipython3",
   "version": "3.8.5"
  }
 },
 "nbformat": 4,
 "nbformat_minor": 5
}
