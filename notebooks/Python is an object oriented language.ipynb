{
 "cells": [
  {
   "cell_type": "markdown",
   "id": "f5c82984",
   "metadata": {},
   "source": [
    "### Intermezzo on how to autoreload modules in ipynb"
   ]
  },
  {
   "cell_type": "code",
   "execution_count": 2,
   "id": "41b10ba4",
   "metadata": {},
   "outputs": [
    {
     "name": "stdout",
     "output_type": "stream",
     "text": [
      "funny.py\r\n"
     ]
    }
   ],
   "source": [
    "! ls funny.py"
   ]
  },
  {
   "cell_type": "code",
   "execution_count": 3,
   "id": "a33514d8",
   "metadata": {},
   "outputs": [
    {
     "name": "stdout",
     "output_type": "stream",
     "text": [
      "def make_fun():\r\n",
      "\tprint(\"To je legrace!!!\")\r\n",
      "\r\n"
     ]
    }
   ],
   "source": [
    "! cat funny.py"
   ]
  },
  {
   "cell_type": "code",
   "execution_count": 6,
   "id": "471be851",
   "metadata": {},
   "outputs": [],
   "source": [
    "from funny import make_fun"
   ]
  },
  {
   "cell_type": "code",
   "execution_count": 10,
   "id": "6d75a833",
   "metadata": {},
   "outputs": [
    {
     "name": "stdout",
     "output_type": "stream",
     "text": [
      "To je HODNE VELKA legrace!!!\n"
     ]
    }
   ],
   "source": [
    "make_fun()"
   ]
  },
  {
   "cell_type": "code",
   "execution_count": 8,
   "id": "2d602cac",
   "metadata": {},
   "outputs": [],
   "source": [
    "%load_ext autoreload"
   ]
  },
  {
   "cell_type": "code",
   "execution_count": 9,
   "id": "e4224f4c",
   "metadata": {},
   "outputs": [],
   "source": [
    "%autoreload 2"
   ]
  },
  {
   "cell_type": "code",
   "execution_count": 161,
   "id": "ab3c56ef",
   "metadata": {},
   "outputs": [],
   "source": [
    "import matplotlib.pyplot as plt\n",
    "import numpy as np"
   ]
  },
  {
   "cell_type": "markdown",
   "id": "02fcf7c9",
   "metadata": {},
   "source": [
    "# Python je objektově orientovaný jazyk\n",
    "\n",
    "Objekt je kontejner, který může obsahovat dohromady proměnné a funkce, které spolu nějak logicky souvisí. Funkcím uvnitř objektů se z historických důvodů říká metody."
   ]
  },
  {
   "cell_type": "code",
   "execution_count": 521,
   "id": "33faaa8f",
   "metadata": {},
   "outputs": [],
   "source": [
    "class Pes():\n",
    "    \n",
    "    # ^^^ trida, recept, jak objekt Pes vypada, \n",
    "    # nebo bude vypadat, az nejake psy podle tohoto navodu vyrobime)\n",
    "\n",
    "    latino = \"Canis\"\n",
    "    \n",
    "    #  ^^^ promenne, ktere jsou *mimo metody* jsou stejne pro\n",
    "    # vsechny instance, je to dokonce fyzicky ta sama promenna pro vsechny\n",
    "    # objekty tohoto typu, coz se da vyuzit, kdyz potrebujete pocitadlo (counter)\n",
    "    # viz o dost nize\n",
    "\n",
    "    \n",
    "    def __init__(self, name, age):\n",
    "        \n",
    "        \n",
    "        self.jmeno = name \n",
    "                          \n",
    "        self.vek = age\n",
    "    \n",
    "    # ^^^ konstruktor, ktery umi vyrobit objekt typu Pes\n",
    "    # promenne patrici danemu objektu jsou uvnitr objektu\n",
    "    # pristupne pres kouzelne sluvko 'self.'\n",
    "    \n",
    "    # vsimete si, ze konstruktor nic nevraci, neni tu zadny return,\n",
    "    # to neni nahoda, to je feature :) takhle se to proste pise\n",
    "    # je to proto, ze vyrobeni objektu je ve skutecnosti\n",
    "    # pod poklickou slozitejsi zalezitost a tohle je zpusob jak to v Pythonu\n",
    "    # napsat a nezesedivet u toho\n",
    "    \n",
    "    # kazdy objekt musi mit konstruktor, jinak by nesel vyrobit\n",
    "    \n",
    "    \n",
    "    def stekej(self, nkrat=1):\n",
    "        for i in range(nkrat):\n",
    "            print(\"Haf!\")\n",
    "    \n",
    "     # ^^^ funkce (metoda), muze, nemusi neco vracet, kdyz tam return neni,\n",
    "     # bere se to jako by vratil None\n",
    "\n",
    "        \n",
    "    def __str__(self):\n",
    "        return \"Ja jsem {0}\".format(self.jmeno)\n",
    "    \n",
    "    # ^^^ jina funkce, ktera se vola automaticky, kdyz se objekt dostane do funkce print\n",
    "    # nebo jinde, kde se ma konvertovat na text (string)\n",
    "    # to, ze to bude nejaka specialnejsi funkce vam je jasne, protoze\n",
    "    # jeji nazev zacina a konci s __\n",
    "\n",
    "# Tento Pes je tedy takovy kontejner, ktery obsahuje\n",
    "\n",
    "# promenne\n",
    "#   self.jmeno\n",
    "#   self.vek\n",
    "#   self.latino\n",
    "\n",
    "# a metody (funkce)\n",
    "#   stekej\n",
    "#   __str__\n",
    "\n",
    "# a nejake dalsi, ktere tam jsou \"od prirody\" automaticky, protoze i kdyz nerekneme\n",
    "# o rodicich nic, tak objekty dedi po uplne zakladnim objektu, ktery v Pythonu je\n",
    "# a ktery se jmenuje, ehm, \"object\"\n",
    "# takze class Dog: ...  je totez jako class Dog(object): .... "
   ]
  },
  {
   "cell_type": "code",
   "execution_count": 522,
   "id": "3b126320",
   "metadata": {},
   "outputs": [],
   "source": [
    "pes1 = Pes(\"Amina\", 8) # instance pes1 tridy Pes\n",
    "# Pes(\"Amina\", 8) zavola nas konstruktor Pes.__init__, ktery 'vyrobi'\n",
    "# novou 'instanci' (nove ztelesneni) objektu podle predpisu popsanem\n",
    "# uvnitr konstruktoru __init__\n",
    "\n",
    "\n",
    "\n",
    "# ciste teoreticky by konstruktor mel koncit prikazem neco ve smyslu \"return self\"\n",
    "# ale nedela se to, protoze je to pod poklickou slozitejsi operace a tak to proste je :)\n",
    "\n",
    "pes2 = Pes(\"Bobik\", 5) # instance pes2 tridy Pes\n",
    "\n",
    "# pes1 a pes2 jsou dva ruzni psi, ale vyrobene ze stejne tridy Pes"
   ]
  },
  {
   "cell_type": "code",
   "execution_count": 314,
   "id": "775d89fd",
   "metadata": {},
   "outputs": [
    {
     "name": "stdout",
     "output_type": "stream",
     "text": [
      "Ja jsem Amina\n"
     ]
    },
    {
     "data": {
      "text/plain": [
       "'Ja jsem Amina'"
      ]
     },
     "execution_count": 314,
     "metadata": {},
     "output_type": "execute_result"
    }
   ],
   "source": [
    "print(pes1) # pridali jsme __str__\n",
    "# kdyz se snazime vytisknout objekt, Pythonu zkusi,\n",
    "# jestli je definovana metoda __str__\n",
    "\n",
    "str(pes1)"
   ]
  },
  {
   "cell_type": "code",
   "execution_count": 315,
   "id": "2faa88ac",
   "metadata": {},
   "outputs": [],
   "source": [
    "x = np.array([1,2,3])"
   ]
  },
  {
   "cell_type": "code",
   "execution_count": 316,
   "id": "2363c1dc",
   "metadata": {},
   "outputs": [
    {
     "data": {
      "text/plain": [
       "3"
      ]
     },
     "execution_count": 316,
     "metadata": {},
     "output_type": "execute_result"
    }
   ],
   "source": [
    "x.max()"
   ]
  },
  {
   "cell_type": "code",
   "execution_count": 317,
   "id": "621ea103",
   "metadata": {},
   "outputs": [
    {
     "data": {
      "text/plain": [
       "('Amina', 8, 'Canis')"
      ]
     },
     "execution_count": 317,
     "metadata": {},
     "output_type": "execute_result"
    }
   ],
   "source": [
    "pes1.jmeno, pes1.vek, pes1.latino"
   ]
  },
  {
   "cell_type": "code",
   "execution_count": 318,
   "id": "1dde4983",
   "metadata": {},
   "outputs": [
    {
     "name": "stdout",
     "output_type": "stream",
     "text": [
      "Haf!\n",
      "Haf!\n",
      "Haf!\n"
     ]
    }
   ],
   "source": [
    "pes1.stekej(3)"
   ]
  },
  {
   "cell_type": "code",
   "execution_count": 319,
   "id": "44cd1c08",
   "metadata": {},
   "outputs": [
    {
     "name": "stdout",
     "output_type": "stream",
     "text": [
      "Haf!\n",
      "Haf!\n",
      "Haf!\n",
      "Haf!\n",
      "Haf!\n"
     ]
    },
    {
     "data": {
      "text/plain": [
       "('Bobik', 5, 'Canis')"
      ]
     },
     "execution_count": 319,
     "metadata": {},
     "output_type": "execute_result"
    }
   ],
   "source": [
    "pes2.stekej(5)\n",
    "pes2.jmeno, pes2.vek, pes2.latino,"
   ]
  },
  {
   "cell_type": "code",
   "execution_count": 320,
   "id": "410645d6",
   "metadata": {},
   "outputs": [
    {
     "data": {
      "text/plain": [
       "'Alik'"
      ]
     },
     "execution_count": 320,
     "metadata": {},
     "output_type": "execute_result"
    }
   ],
   "source": [
    "p = Pes(\"Alik\", 0.5)\n",
    "p.jmeno"
   ]
  },
  {
   "cell_type": "code",
   "execution_count": 321,
   "id": "924abc1c",
   "metadata": {},
   "outputs": [
    {
     "data": {
      "text/plain": [
       "0.5"
      ]
     },
     "execution_count": 321,
     "metadata": {},
     "output_type": "execute_result"
    }
   ],
   "source": [
    "p.vek"
   ]
  },
  {
   "cell_type": "code",
   "execution_count": 322,
   "id": "3a1e4bde",
   "metadata": {},
   "outputs": [
    {
     "name": "stdout",
     "output_type": "stream",
     "text": [
      "Haf!\n"
     ]
    }
   ],
   "source": [
    "p.stekej()"
   ]
  },
  {
   "cell_type": "code",
   "execution_count": 524,
   "id": "7abc29fb",
   "metadata": {},
   "outputs": [],
   "source": [
    "class Star:\n",
    "    def __init__(self, x,y, name):\n",
    "        self.x = x\n",
    "        self.y = y\n",
    "        self.name = name\n",
    "        \n",
    "    def distance_from(self, x0, y0):\n",
    "        dist = np.sqrt( ( self.x - x0)**2 + ( self.y - y0)**2 )\n",
    "        return dist\n",
    "    \n",
    "    def display(self):\n",
    "        plt.plot([self.x],[self.y],\"o\")\n",
    "        plt.text(self.x, self.y, self.name)"
   ]
  },
  {
   "cell_type": "code",
   "execution_count": 525,
   "id": "85dc69db",
   "metadata": {},
   "outputs": [],
   "source": [
    "a = Star(10,20,\"Alfa Centauri\")\n",
    "b = Star(30,15, \"Beta Persei\")"
   ]
  },
  {
   "cell_type": "code",
   "execution_count": 526,
   "id": "0294db30",
   "metadata": {},
   "outputs": [
    {
     "data": {
      "text/plain": [
       "(10, 20, 'Alfa Centauri')"
      ]
     },
     "execution_count": 526,
     "metadata": {},
     "output_type": "execute_result"
    }
   ],
   "source": [
    "a.x, a.y, a.name"
   ]
  },
  {
   "cell_type": "code",
   "execution_count": 528,
   "id": "3fd228f0",
   "metadata": {},
   "outputs": [
    {
     "name": "stdout",
     "output_type": "stream",
     "text": [
      "<__main__.Star object at 0x7f8332072580>\n"
     ]
    }
   ],
   "source": [
    "print(a)"
   ]
  },
  {
   "cell_type": "code",
   "execution_count": 530,
   "id": "150ce47d",
   "metadata": {},
   "outputs": [
    {
     "data": {
      "text/plain": [
       "__main__.Star"
      ]
     },
     "execution_count": 530,
     "metadata": {},
     "output_type": "execute_result"
    }
   ],
   "source": [
    "type(a)"
   ]
  },
  {
   "cell_type": "code",
   "execution_count": 532,
   "id": "d4008a0d",
   "metadata": {},
   "outputs": [
    {
     "data": {
      "text/plain": [
       "(True, False)"
      ]
     },
     "execution_count": 532,
     "metadata": {},
     "output_type": "execute_result"
    }
   ],
   "source": [
    "isinstance(a, Star), isinstance(a, Pes), "
   ]
  },
  {
   "cell_type": "code",
   "execution_count": 533,
   "id": "1f561803",
   "metadata": {},
   "outputs": [],
   "source": [
    "image = [a,b]"
   ]
  },
  {
   "cell_type": "code",
   "execution_count": 534,
   "id": "53987043",
   "metadata": {},
   "outputs": [
    {
     "data": {
      "text/plain": [
       "[<__main__.Star at 0x7f8332072580>, <__main__.Star at 0x7f8332072910>]"
      ]
     },
     "execution_count": 534,
     "metadata": {},
     "output_type": "execute_result"
    }
   ],
   "source": [
    "image"
   ]
  },
  {
   "cell_type": "code",
   "execution_count": 535,
   "id": "dcc26e19",
   "metadata": {},
   "outputs": [
    {
     "data": {
      "image/png": "[encoded data removed]",
      "text/plain": [
       "<Figure size 432x288 with 1 Axes>"
      ]
     },
     "metadata": {
      "needs_background": "light"
     },
     "output_type": "display_data"
    }
   ],
   "source": [
    "for o in image:\n",
    "    o.display()"
   ]
  },
  {
   "cell_type": "code",
   "execution_count": 536,
   "id": "7570b633",
   "metadata": {},
   "outputs": [
    {
     "data": {
      "text/plain": [
       "20.615528128088304"
      ]
     },
     "execution_count": 536,
     "metadata": {},
     "output_type": "execute_result"
    }
   ],
   "source": [
    "a.distance_from(b.x, b.y)"
   ]
  },
  {
   "cell_type": "code",
   "execution_count": 537,
   "id": "83700ac8",
   "metadata": {},
   "outputs": [],
   "source": [
    "class Galaxy(Star):\n",
    "    def __init__(self, x,y,name,r):\n",
    "        super().__init__(x,y,name) ## self.x = x, self.y = y, self.name=name\n",
    "        # super() odkazuje na rodice, super().__init__ je konstruktor rodicu\n",
    "        self.r = r\n",
    "        \n",
    "    def display(self):\n",
    "        plt.scatter([self.x],[self.y],s=[self.r**2])\n",
    "        plt.text(self.x, self.y, self.name)\n",
    "        \n",
    "        # podobne super().display() by zavolalo display rodice, tedy Star.display()"
   ]
  },
  {
   "cell_type": "code",
   "execution_count": 538,
   "id": "8e3054ac",
   "metadata": {},
   "outputs": [],
   "source": [
    "g = Galaxy(4,26,\"M31\",r=40)"
   ]
  },
  {
   "cell_type": "code",
   "execution_count": 539,
   "id": "73a3ee94",
   "metadata": {},
   "outputs": [
    {
     "data": {
      "image/png": "[encoded data removed]",
      "text/plain": [
       "<Figure size 432x288 with 1 Axes>"
      ]
     },
     "metadata": {
      "needs_background": "light"
     },
     "output_type": "display_data"
    }
   ],
   "source": [
    "g.display()"
   ]
  },
  {
   "cell_type": "code",
   "execution_count": 540,
   "id": "a9a75d28",
   "metadata": {},
   "outputs": [
    {
     "data": {
      "image/png": "[encoded data removed]",
      "text/plain": [
       "<Figure size 432x288 with 1 Axes>"
      ]
     },
     "metadata": {
      "needs_background": "light"
     },
     "output_type": "display_data"
    }
   ],
   "source": [
    "foto = [a,b,g]\n",
    "for astro in foto:\n",
    "    astro.display()"
   ]
  },
  {
   "cell_type": "code",
   "execution_count": 541,
   "id": "b76ca86b",
   "metadata": {},
   "outputs": [],
   "source": [
    "class Astrosource:\n",
    "    def __init__(self, x,y, name):\n",
    "        self.x = x\n",
    "        self.y = y\n",
    "        self.name = name\n",
    "        \n",
    "    def distance_from(self, x0, y0):\n",
    "        dist = np.sqrt( ( self.x - x0)**2 + ( self.y - y0)**2 )\n",
    "        return dist\n",
    "    \n",
    "    def display(self):\n",
    "        plt.plot([self.x],[self.y],\"o\")\n",
    "        plt.text(self.x, self.y, self.name)\n"
   ]
  },
  {
   "cell_type": "code",
   "execution_count": 542,
   "id": "ad52c48e",
   "metadata": {},
   "outputs": [],
   "source": [
    "class Star(Astrosource):\n",
    "    def __init__(self, x,y,name,T):\n",
    "        super().__init__(x,y,name)\n",
    "        self.T = T\n",
    "        \n",
    "    def display(self):\n",
    "        \"\"\"Horke hvezdy se budou malovat modre, chladne cervene\"\"\"\n",
    "        if self.T < 6000:\n",
    "            c = 'red'\n",
    "        else:\n",
    "            c = 'blue'\n",
    "        plt.plot([self.x],[self.y],\"o\", color=c)\n",
    "        plt.text(self.x, self.y, self.name)"
   ]
  },
  {
   "cell_type": "code",
   "execution_count": 543,
   "id": "1b3fd6ed",
   "metadata": {},
   "outputs": [],
   "source": [
    "a = Star(20,30,\"alfa\", 3000.)"
   ]
  },
  {
   "cell_type": "code",
   "execution_count": 544,
   "id": "c9d11766",
   "metadata": {},
   "outputs": [
    {
     "data": {
      "text/plain": [
       "3000.0"
      ]
     },
     "execution_count": 544,
     "metadata": {},
     "output_type": "execute_result"
    }
   ],
   "source": [
    "a.T"
   ]
  },
  {
   "cell_type": "code",
   "execution_count": 545,
   "id": "03d62098",
   "metadata": {},
   "outputs": [
    {
     "data": {
      "image/png": "[encoded data removed]",
      "text/plain": [
       "<Figure size 432x288 with 1 Axes>"
      ]
     },
     "metadata": {
      "needs_background": "light"
     },
     "output_type": "display_data"
    }
   ],
   "source": [
    "a.display()"
   ]
  },
  {
   "cell_type": "code",
   "execution_count": 546,
   "id": "e78e1bae",
   "metadata": {},
   "outputs": [],
   "source": [
    "class Galaxy(Astrosource):\n",
    "    def __init__(self, x,y,name,r):\n",
    "        super().__init__(x,y,name) ## self.x = x, self.y = y, self.name=name\n",
    "        self.r = r\n",
    "    \n",
    "    def distance_from(self, x0, y0):\n",
    "        dist = ( ( self.x - x0)**2 + ( self.y - y0)**2 )**(-1/4.)\n",
    "        # moje pofiderni pocitani vzdalenosti pro galaxie, asi zakrivuji casoprostor...\n",
    "        return dist\n",
    "    \n",
    "    def display(self):\n",
    "        plt.scatter([self.x],[self.y],s=[self.r**2])\n",
    "        plt.text(self.x, self.y, self.name)"
   ]
  },
  {
   "cell_type": "code",
   "execution_count": 547,
   "id": "a0f7acc4",
   "metadata": {},
   "outputs": [],
   "source": [
    "g = Galaxy(45,2, \"M31\", 100)"
   ]
  },
  {
   "cell_type": "code",
   "execution_count": 548,
   "id": "7cdd2ec7",
   "metadata": {},
   "outputs": [
    {
     "data": {
      "text/plain": [
       "0.14899767384211135"
      ]
     },
     "execution_count": 548,
     "metadata": {},
     "output_type": "execute_result"
    }
   ],
   "source": [
    "g.distance_from(0,0)"
   ]
  },
  {
   "cell_type": "code",
   "execution_count": 549,
   "id": "66e64364",
   "metadata": {},
   "outputs": [],
   "source": [
    "from scipy import interpolate"
   ]
  },
  {
   "cell_type": "code",
   "execution_count": 550,
   "id": "7846b9c5",
   "metadata": {},
   "outputs": [],
   "source": [
    "x = np.arange(0,10)\n",
    "y = np.exp(-x/5.)"
   ]
  },
  {
   "cell_type": "code",
   "execution_count": 551,
   "id": "d56df5ba",
   "metadata": {},
   "outputs": [
    {
     "data": {
      "text/plain": [
       "[<matplotlib.lines.Line2D at 0x7f8333eda610>]"
      ]
     },
     "execution_count": 551,
     "metadata": {},
     "output_type": "execute_result"
    },
    {
     "data": {
      "image/png": "[encoded data removed]",
      "text/plain": [
       "<Figure size 432x288 with 1 Axes>"
      ]
     },
     "metadata": {
      "needs_background": "light"
     },
     "output_type": "display_data"
    }
   ],
   "source": [
    "plt.plot(x,y,\"o\")"
   ]
  },
  {
   "cell_type": "code",
   "execution_count": 552,
   "id": "749985a4",
   "metadata": {},
   "outputs": [],
   "source": [
    "f = interpolate.interp1d(x,y) # konstruktor"
   ]
  },
  {
   "cell_type": "code",
   "execution_count": 553,
   "id": "1e17318a",
   "metadata": {},
   "outputs": [
    {
     "data": {
      "text/plain": [
       "False"
      ]
     },
     "execution_count": 553,
     "metadata": {},
     "output_type": "execute_result"
    }
   ],
   "source": [
    "f.bounds_error = False\n",
    "f.bounds_error"
   ]
  },
  {
   "cell_type": "code",
   "execution_count": 554,
   "id": "aef71d0c",
   "metadata": {},
   "outputs": [
    {
     "data": {
      "text/plain": [
       "array([0. , 0.1, 0.2, 0.3, 0.4, 0.5, 0.6, 0.7, 0.8, 0.9, 1. , 1.1, 1.2,\n",
       "       1.3, 1.4, 1.5, 1.6, 1.7, 1.8, 1.9, 2. , 2.1, 2.2, 2.3, 2.4, 2.5,\n",
       "       2.6, 2.7, 2.8, 2.9, 3. , 3.1, 3.2, 3.3, 3.4, 3.5, 3.6, 3.7, 3.8,\n",
       "       3.9, 4. , 4.1, 4.2, 4.3, 4.4, 4.5, 4.6, 4.7, 4.8, 4.9, 5. , 5.1,\n",
       "       5.2, 5.3, 5.4, 5.5, 5.6, 5.7, 5.8, 5.9, 6. , 6.1, 6.2, 6.3, 6.4,\n",
       "       6.5, 6.6, 6.7, 6.8, 6.9, 7. , 7.1, 7.2, 7.3, 7.4, 7.5, 7.6, 7.7,\n",
       "       7.8, 7.9, 8. , 8.1, 8.2, 8.3, 8.4, 8.5, 8.6, 8.7, 8.8, 8.9, 9. ,\n",
       "       9.1, 9.2, 9.3, 9.4, 9.5, 9.6, 9.7, 9.8, 9.9])"
      ]
     },
     "execution_count": 554,
     "metadata": {},
     "output_type": "execute_result"
    }
   ],
   "source": [
    "x_new = np.arange(0,10,0.1)\n",
    "x_new"
   ]
  },
  {
   "cell_type": "code",
   "execution_count": 555,
   "id": "0b5a3638",
   "metadata": {},
   "outputs": [],
   "source": [
    "y_new = f(x_new) # f.__call__(x_new)"
   ]
  },
  {
   "cell_type": "code",
   "execution_count": 556,
   "id": "e14c9a4d",
   "metadata": {},
   "outputs": [
    {
     "data": {
      "text/plain": [
       "[<matplotlib.lines.Line2D at 0x7f83344d86d0>]"
      ]
     },
     "execution_count": 556,
     "metadata": {},
     "output_type": "execute_result"
    },
    {
     "data": {
      "image/png": "[encoded data removed]",
      "text/plain": [
       "<Figure size 432x288 with 1 Axes>"
      ]
     },
     "metadata": {
      "needs_background": "light"
     },
     "output_type": "display_data"
    }
   ],
   "source": [
    "plt.plot(x_new, y_new,\"o\")\n",
    "plt.plot(x,y,\"o\")"
   ]
  },
  {
   "cell_type": "code",
   "execution_count": 557,
   "id": "5980115a",
   "metadata": {},
   "outputs": [],
   "source": [
    "# from sklearn # scikit-learn\n",
    "def generate_data(N=20):\n",
    "    x = np.random.random(N)\n",
    "    sigmy_y = 0.1 * np.ones(N)\n",
    "    y = x - 0.2 + sigmy_y * np.random.randn(N)\n",
    "    return np.vstack([x,y])"
   ]
  },
  {
   "cell_type": "code",
   "execution_count": 558,
   "id": "4b487f39",
   "metadata": {},
   "outputs": [],
   "source": [
    "x,y = generate_data()"
   ]
  },
  {
   "cell_type": "code",
   "execution_count": 559,
   "id": "8473bbb8",
   "metadata": {},
   "outputs": [
    {
     "data": {
      "text/plain": [
       "[<matplotlib.lines.Line2D at 0x7f83345b6310>]"
      ]
     },
     "execution_count": 559,
     "metadata": {},
     "output_type": "execute_result"
    },
    {
     "data": {
      "image/png": "[encoded data removed]",
      "text/plain": [
       "<Figure size 432x288 with 1 Axes>"
      ]
     },
     "metadata": {
      "needs_background": "light"
     },
     "output_type": "display_data"
    }
   ],
   "source": [
    "plt.plot(x,y,\"o\")"
   ]
  },
  {
   "cell_type": "code",
   "execution_count": 560,
   "id": "cbdbcbba",
   "metadata": {},
   "outputs": [],
   "source": [
    "from sklearn.linear_model import LinearRegression"
   ]
  },
  {
   "cell_type": "code",
   "execution_count": 561,
   "id": "4e1b54cf",
   "metadata": {},
   "outputs": [],
   "source": [
    "model = LinearRegression()"
   ]
  },
  {
   "cell_type": "code",
   "execution_count": 562,
   "id": "79e97667",
   "metadata": {},
   "outputs": [],
   "source": [
    "X = x[:,np.newaxis] # autori v sklearn chteji, aby vstup pro metodu fit byl ve \n",
    "# formatu fit( matice_X, vektor_y), tak  z 1D vektoru o N  prvcich delame\n",
    "# matici o rozmerech N x 1"
   ]
  },
  {
   "cell_type": "code",
   "execution_count": 563,
   "id": "1dc4045d",
   "metadata": {},
   "outputs": [
    {
     "data": {
      "text/plain": [
       "((20,), (20, 1))"
      ]
     },
     "execution_count": 563,
     "metadata": {},
     "output_type": "execute_result"
    }
   ],
   "source": [
    "x.shape, X.shape"
   ]
  },
  {
   "cell_type": "code",
   "execution_count": 564,
   "id": "decdba17",
   "metadata": {},
   "outputs": [
    {
     "data": {
      "text/plain": [
       "LinearRegression()"
      ]
     },
     "execution_count": 564,
     "metadata": {},
     "output_type": "execute_result"
    }
   ],
   "source": [
    "model.fit(X,y)"
   ]
  },
  {
   "cell_type": "code",
   "execution_count": 565,
   "id": "d8cdd2f5",
   "metadata": {},
   "outputs": [
    {
     "data": {
      "text/plain": [
       "(-0.2138714121032962, array([1.10415728]))"
      ]
     },
     "execution_count": 565,
     "metadata": {},
     "output_type": "execute_result"
    }
   ],
   "source": [
    "model.intercept_, model.coef_"
   ]
  },
  {
   "cell_type": "code",
   "execution_count": 566,
   "id": "80cf2bb3",
   "metadata": {},
   "outputs": [],
   "source": [
    "x_new = np.linspace(0,1,20)[:,np.newaxis]\n",
    "y_fit = model.predict(x_new)"
   ]
  },
  {
   "cell_type": "code",
   "execution_count": 567,
   "id": "32a6d573",
   "metadata": {},
   "outputs": [
    {
     "data": {
      "text/plain": [
       "[<matplotlib.lines.Line2D at 0x7f8334640520>]"
      ]
     },
     "execution_count": 567,
     "metadata": {},
     "output_type": "execute_result"
    },
    {
     "data": {
      "image/png": "[encoded data removed]",
      "text/plain": [
       "<Figure size 432x288 with 1 Axes>"
      ]
     },
     "metadata": {
      "needs_background": "light"
     },
     "output_type": "display_data"
    }
   ],
   "source": [
    "plt.plot(x,y,\"o\")\n",
    "plt.plot(x_new, y_fit,\":\")"
   ]
  },
  {
   "cell_type": "code",
   "execution_count": 568,
   "id": "d49d8c1e",
   "metadata": {},
   "outputs": [],
   "source": [
    "from sklearn.svm import SVR\n",
    "\n",
    "model2 = SVR(kernel=\"rbf\")\n",
    "model2.fit(X,y)\n",
    "y_new = model2.predict(x_new)"
   ]
  },
  {
   "cell_type": "code",
   "execution_count": 569,
   "id": "4bfdebaa",
   "metadata": {},
   "outputs": [
    {
     "data": {
      "text/plain": [
       "[<matplotlib.lines.Line2D at 0x7f83347845b0>]"
      ]
     },
     "execution_count": 569,
     "metadata": {},
     "output_type": "execute_result"
    },
    {
     "data": {
      "image/png": "[encoded data removed]",
      "text/plain": [
       "<Figure size 432x288 with 1 Axes>"
      ]
     },
     "metadata": {
      "needs_background": "light"
     },
     "output_type": "display_data"
    }
   ],
   "source": [
    "plt.plot(x,y,\"o\")\n",
    "plt.plot(x_new, y_new,\":\")"
   ]
  },
  {
   "cell_type": "code",
   "execution_count": 570,
   "id": "9aef266f",
   "metadata": {},
   "outputs": [
    {
     "data": {
      "text/plain": [
       "0.9438145168248155"
      ]
     },
     "execution_count": 570,
     "metadata": {},
     "output_type": "execute_result"
    }
   ],
   "source": [
    "model.score(X,y)"
   ]
  },
  {
   "cell_type": "code",
   "execution_count": 571,
   "id": "963fbcf0",
   "metadata": {},
   "outputs": [
    {
     "data": {
      "text/plain": [
       "0.9620223479261336"
      ]
     },
     "execution_count": 571,
     "metadata": {},
     "output_type": "execute_result"
    }
   ],
   "source": [
    "model2.score(X,y)"
   ]
  },
  {
   "cell_type": "code",
   "execution_count": 572,
   "id": "b361fa31",
   "metadata": {},
   "outputs": [],
   "source": [
    "a = np.array([1,2,4])"
   ]
  },
  {
   "cell_type": "code",
   "execution_count": 573,
   "id": "e470fc7a",
   "metadata": {},
   "outputs": [
    {
     "data": {
      "text/plain": [
       "4"
      ]
     },
     "execution_count": 573,
     "metadata": {},
     "output_type": "execute_result"
    }
   ],
   "source": [
    "np.max(a)"
   ]
  },
  {
   "cell_type": "code",
   "execution_count": 574,
   "id": "f334db25",
   "metadata": {},
   "outputs": [
    {
     "data": {
      "text/plain": [
       "4"
      ]
     },
     "execution_count": 574,
     "metadata": {},
     "output_type": "execute_result"
    }
   ],
   "source": [
    "a.max()"
   ]
  },
  {
   "cell_type": "code",
   "execution_count": 575,
   "id": "b62bb018",
   "metadata": {},
   "outputs": [
    {
     "data": {
      "text/plain": [
       "3"
      ]
     },
     "execution_count": 575,
     "metadata": {},
     "output_type": "execute_result"
    }
   ],
   "source": [
    "a.size"
   ]
  },
  {
   "cell_type": "code",
   "execution_count": 576,
   "id": "154691e2",
   "metadata": {},
   "outputs": [],
   "source": [
    "# class array\n",
    "#  ....\n",
    "#     self.size = len(vector)"
   ]
  },
  {
   "cell_type": "code",
   "execution_count": 577,
   "id": "e71a1f1c",
   "metadata": {},
   "outputs": [
    {
     "name": "stdout",
     "output_type": "stream",
     "text": [
      "Model  LinearRegression  dosahl skore  0.944\n",
      "Model  SVR  dosahl skore  0.962\n"
     ]
    }
   ],
   "source": [
    "models = [LinearRegression, SVR]\n",
    "pars = [None, {'kernel':'rbf'}]\n",
    "\n",
    "for M, par in zip(models, pars):\n",
    "    if par:\n",
    "        model = M(**par)\n",
    "    else:\n",
    "        model = M()\n",
    "    model.fit(X,y)\n",
    "    score = model.score(X,y)\n",
    "    print(\"Model \", M.__name__, \" dosahl skore \", round(score,3) )"
   ]
  },
  {
   "cell_type": "code",
   "execution_count": 578,
   "id": "9435cf41",
   "metadata": {},
   "outputs": [
    {
     "name": "stdout",
     "output_type": "stream",
     "text": [
      "1 ja\n",
      "2 ty\n",
      "3 hroch\n"
     ]
    }
   ],
   "source": [
    "a = [ 1,2,3]\n",
    "b = [\"ja\", \"ty\", \"hroch\"]\n",
    "\n",
    "for i in range(len(a)):\n",
    "    print( a[i], b[i])\n",
    "    \n",
    "    "
   ]
  },
  {
   "cell_type": "code",
   "execution_count": 579,
   "id": "44f62927",
   "metadata": {},
   "outputs": [
    {
     "name": "stdout",
     "output_type": "stream",
     "text": [
      "1 ja 1\n",
      "2 ty 2\n",
      "3 hroch 3\n"
     ]
    }
   ],
   "source": [
    "for cislo, jmeno, i in zip(a, b, a):\n",
    "    print( cislo, jmeno, i)"
   ]
  },
  {
   "cell_type": "code",
   "execution_count": 580,
   "id": "7db793df",
   "metadata": {},
   "outputs": [],
   "source": [
    "def f(x,y,z):\n",
    "    return x+y+z"
   ]
  },
  {
   "cell_type": "code",
   "execution_count": 581,
   "id": "e1017074",
   "metadata": {},
   "outputs": [
    {
     "data": {
      "text/plain": [
       "15"
      ]
     },
     "execution_count": 581,
     "metadata": {},
     "output_type": "execute_result"
    }
   ],
   "source": [
    "f(1,4,10)"
   ]
  },
  {
   "cell_type": "code",
   "execution_count": 582,
   "id": "2901ab55",
   "metadata": {},
   "outputs": [
    {
     "data": {
      "text/plain": [
       "15"
      ]
     },
     "execution_count": 582,
     "metadata": {},
     "output_type": "execute_result"
    }
   ],
   "source": [
    "arg = [1,4,10]\n",
    "f(*arg) # * ---> [1,4,10] --> 1, 4, 10"
   ]
  },
  {
   "cell_type": "code",
   "execution_count": 583,
   "id": "1198989f",
   "metadata": {},
   "outputs": [],
   "source": [
    "def f(x=10, y=20, z=30):\n",
    "    return x+y+z"
   ]
  },
  {
   "cell_type": "code",
   "execution_count": 584,
   "id": "ce587c46",
   "metadata": {},
   "outputs": [
    {
     "data": {
      "text/plain": [
       "140"
      ]
     },
     "execution_count": 584,
     "metadata": {},
     "output_type": "execute_result"
    }
   ],
   "source": [
    "f(y=100)"
   ]
  },
  {
   "cell_type": "code",
   "execution_count": 585,
   "id": "bd41921a",
   "metadata": {},
   "outputs": [],
   "source": [
    "arg = { 'x': 10, 'y': 40, 'z': 100}"
   ]
  },
  {
   "cell_type": "code",
   "execution_count": 586,
   "id": "7a7c5997",
   "metadata": {},
   "outputs": [
    {
     "data": {
      "text/plain": [
       "150"
      ]
     },
     "execution_count": 586,
     "metadata": {},
     "output_type": "execute_result"
    }
   ],
   "source": [
    "f(**arg) # f(x= arg['x'], y = arg['y'], z= arg['z'])"
   ]
  },
  {
   "cell_type": "markdown",
   "id": "7578eaab",
   "metadata": {},
   "source": [
    "Benefits of the objects:\n",
    "\n",
    "- follow better the logic what is related to what\n",
    "- you can inherit parts of the existing code and update only small parts adjusting it to your actual needs. It's much safer than copy and paste\n",
    "- many different objects of the 'same kind' can use same interface\n",
    "\n",
    "You can live easily without using the benefits of objects, for example in our case, you can create a vector of astro object names, another vector for x-position, y-position, etc... i-th index would correspond to the i-th star/galaxy. Then you can write general functions that measure the distance and do plotting... For stars you can set the radius to -1 or None to mark that the radius has no meaning... but objects are more fancy and easier to read.\n",
    "\n",
    "Don't get too mad and don't write objects everywhere... Keep in mind that many operations are much faster on vectors using *numpy*! If you have the positions of all star and you want to calculate the position of the centre of the star cluster, it's definitely faster to store the x and y positions in an numpy array and calculate the *np.mean(x)*, *np.mean(y)*, than to loop over all the *Astrosource* objects in a for-loop... The later is easier to read but much slower:\n",
    "\n",
    "However, if you have N astronomical sources, each with a different spectrum, it makes sense to have one general object for a spectrum and to have object children for generating different spectral variations (power-law, black-body, spectrum with spectral lines...)"
   ]
  },
  {
   "cell_type": "code",
   "execution_count": 587,
   "id": "ffae6846",
   "metadata": {},
   "outputs": [
    {
     "name": "stdout",
     "output_type": "stream",
     "text": [
      "78.0 18.333333333333332\n"
     ]
    }
   ],
   "source": [
    "x = np.array([1.,230.,3.])\n",
    "y = np.array([10.,32.,13.])\n",
    "centre_x = np.mean(x)\n",
    "centre_y = np.mean(y)\n",
    "print(centre_x, centre_y)"
   ]
  },
  {
   "cell_type": "code",
   "execution_count": 588,
   "id": "7153ad92",
   "metadata": {},
   "outputs": [],
   "source": [
    "class Source():\n",
    "    def __init__(self,x,y):\n",
    "        self.x = x\n",
    "        self.y = y"
   ]
  },
  {
   "cell_type": "code",
   "execution_count": 589,
   "id": "3c5544a1",
   "metadata": {},
   "outputs": [
    {
     "name": "stdout",
     "output_type": "stream",
     "text": [
      "78.0 18.333333333333332\n"
     ]
    }
   ],
   "source": [
    "seznam = [Source(1,10), Source(230,32), Source(3,13)]\n",
    "centre_x = 0\n",
    "centre_y = 0\n",
    "for o in seznam:\n",
    "    centre_x += o.x\n",
    "    centre_y += o.y\n",
    "centre_x = centre_x/len(seznam)\n",
    "centre_y = centre_y/len(seznam)\n",
    "print(centre_x, centre_y)"
   ]
  },
  {
   "cell_type": "markdown",
   "id": "dfeec146",
   "metadata": {},
   "source": [
    "### Example to show a class variable\n",
    "\n",
    "Defined outside the methods, without *self*. They can serve, for example, as a counter of how many  instances have been created. Or a constant global across the objects..."
   ]
  },
  {
   "cell_type": "code",
   "execution_count": 605,
   "id": "56589670",
   "metadata": {},
   "outputs": [],
   "source": [
    "class Particle:\n",
    "    id = 0\n",
    "    c = 3e10 # speed of light in cm/s\n",
    "    def __init__(self, vx,vy, mass):\n",
    "        self.vx = vx\n",
    "        self.vy = vy\n",
    "        self.mass = mass\n",
    "        Particle.id +=1 # tady nemuzu pouzit self.id, protoze to by byla\n",
    "        # promenna jen toho jednoho konkretniho objektu\n",
    "        # tak se to dela takhle\n",
    "    \n",
    "    def v(self):\n",
    "        return np.sqrt(self.vx**2 + self.vy**2)\n",
    "    \n",
    "    def kinetic_energy(self):\n",
    "        return 0.5*self.mass*self.v()**2\n",
    "    \n",
    "    def gamma_factor(self):\n",
    "        return 1./np.sqrt(1- self.v()**2/Particle.c**2)\n",
    "    \n",
    "    def __del__(self):\n",
    "        Particle.id -= 1\n",
    "        \n",
    "    # ^^^ this __del__ is a special method called when the object is deleted from memory "
   ]
  },
  {
   "cell_type": "code",
   "execution_count": 609,
   "id": "4cfdad56",
   "metadata": {},
   "outputs": [
    {
     "data": {
      "text/plain": [
       "1"
      ]
     },
     "execution_count": 609,
     "metadata": {},
     "output_type": "execute_result"
    }
   ],
   "source": [
    "Particle.id = 0 # pre pouzitim vynulujeme\n",
    "\n",
    "p1 = Particle(10,20,0.1)\n",
    "p1.id"
   ]
  },
  {
   "cell_type": "code",
   "execution_count": 610,
   "id": "494bdfbf",
   "metadata": {},
   "outputs": [],
   "source": [
    "p2 = Particle(1,2,0.1)"
   ]
  },
  {
   "cell_type": "code",
   "execution_count": 611,
   "id": "d1ad0978",
   "metadata": {},
   "outputs": [
    {
     "data": {
      "text/plain": [
       "2"
      ]
     },
     "execution_count": 611,
     "metadata": {},
     "output_type": "execute_result"
    }
   ],
   "source": [
    "p2.id"
   ]
  },
  {
   "cell_type": "code",
   "execution_count": 612,
   "id": "e50a565e",
   "metadata": {},
   "outputs": [
    {
     "data": {
      "text/plain": [
       "1.0"
      ]
     },
     "execution_count": 612,
     "metadata": {},
     "output_type": "execute_result"
    }
   ],
   "source": [
    "p2.gamma_factor()"
   ]
  },
  {
   "cell_type": "code",
   "execution_count": 613,
   "id": "3850a7d0",
   "metadata": {},
   "outputs": [
    {
     "data": {
      "text/plain": [
       "1.9611613513818402"
      ]
     },
     "execution_count": 613,
     "metadata": {},
     "output_type": "execute_result"
    }
   ],
   "source": [
    "p3 = Particle(0.5*Particle.c,0.7*Particle.c,0.1)\n",
    "p3.gamma_factor()"
   ]
  },
  {
   "cell_type": "code",
   "execution_count": 614,
   "id": "43cf8f31",
   "metadata": {},
   "outputs": [
    {
     "data": {
      "text/plain": [
       "3"
      ]
     },
     "execution_count": 614,
     "metadata": {},
     "output_type": "execute_result"
    }
   ],
   "source": [
    "p3.id"
   ]
  },
  {
   "cell_type": "code",
   "execution_count": 615,
   "id": "cf855d2b",
   "metadata": {},
   "outputs": [
    {
     "data": {
      "text/plain": [
       "3"
      ]
     },
     "execution_count": 615,
     "metadata": {},
     "output_type": "execute_result"
    }
   ],
   "source": [
    "Particle.id"
   ]
  },
  {
   "cell_type": "code",
   "execution_count": 514,
   "id": "e55f767a",
   "metadata": {},
   "outputs": [],
   "source": []
  },
  {
   "cell_type": "code",
   "execution_count": null,
   "id": "1999c25a",
   "metadata": {},
   "outputs": [],
   "source": []
  }
 ],
 "metadata": {
  "kernelspec": {
   "display_name": "Python 3",
   "language": "python",
   "name": "python3"
  },
  "language_info": {
   "codemirror_mode": {
    "name": "ipython",
    "version": 3
   },
   "file_extension": ".py",
   "mimetype": "text/x-python",
   "name": "python",
   "nbconvert_exporter": "python",
   "pygments_lexer": "ipython3",
   "version": "3.8.5"
  }
 },
 "nbformat": 4,
 "nbformat_minor": 5
}
