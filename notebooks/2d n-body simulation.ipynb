{
 "cells": [
  {
   "cell_type": "code",
   "execution_count": null,
   "metadata": {},
   "outputs": [],
   "source": [
    "# Adopted from the originally 3d sim\n",
    "# https://medium.com/swlh/create-your-own-n-body-simulation-with-python-f417234885e9"
   ]
  },
  {
   "cell_type": "code",
   "execution_count": 1,
   "metadata": {},
   "outputs": [],
   "source": [
    "import numpy as np\n",
    "import matplotlib.pyplot as plt"
   ]
  },
  {
   "cell_type": "code",
   "execution_count": 2,
   "metadata": {},
   "outputs": [],
   "source": [
    "def getAcc( pos, mass, G, softening ):\n",
    "    \"\"\"\n",
    "    Calculate the acceleration on each particle due to Newton's Law \n",
    "    pos  is an N x 2 matrix of positions\n",
    "    mass is an N x 1 vector of masses\n",
    "    G is Newton's Gravitational constant\n",
    "    softening is the softening length\n",
    "    a is N x 2 matrix of accelerations\n",
    "    \"\"\"\n",
    "    # positions r = [x,y] for all particles\n",
    "    x = pos[:,0:1]\n",
    "    y = pos[:,1:2]\n",
    "\n",
    "    # matrix that stores all pairwise particle separations: r_j - r_i\n",
    "    dx = x.T - x\n",
    "    dy = y.T - y\n",
    "\n",
    "    # matrix that stores 1/r^3 for all particle pairwise particle separations \n",
    "    inv_r3 = (dx**2 + dy**2 + softening**2)\n",
    "    inv_r3[inv_r3>0] = inv_r3[inv_r3>0]**(-1.5)\n",
    "\n",
    "    ax = G * (dx * inv_r3) @ mass # A@B = np.matmul(A,B)\n",
    "    ay = G * (dy * inv_r3) @ mass\n",
    "\n",
    "    # pack together the acceleration components\n",
    "    a = np.hstack((ax,ay))\n",
    "\n",
    "    return a"
   ]
  },
  {
   "cell_type": "code",
   "execution_count": 3,
   "metadata": {},
   "outputs": [],
   "source": [
    "def getEnergy( pos, vel, mass, G ):\n",
    "    \"\"\"\n",
    "    Get kinetic energy (KE) and potential energy (PE) of simulation\n",
    "    pos is N x 2 matrix of positions\n",
    "    vel is N x 2 matrix of velocities\n",
    "    mass is an N x 1 vector of masses\n",
    "    G is Newton's Gravitational constant\n",
    "    KE is the kinetic energy of the system\n",
    "    PE is the potential energy of the system\n",
    "    \"\"\"\n",
    "    # Kinetic Energy:\n",
    "    KE = 0.5 * np.sum(np.sum( mass * vel**2 ))\n",
    "\n",
    "    # Potential Energy:\n",
    "\n",
    "    # positions r = [x,y] for all particles\n",
    "    x = pos[:,0:1] # chceme matici [N,1], ne vektor N\n",
    "    y = pos[:,1:2]\n",
    "\n",
    "    # matrix that stores all pairwise particle separations: r_j - r_i\n",
    "    dx = x.T - x # broadcasting\n",
    "    dy = y.T - y\n",
    "\n",
    "    # matrix that stores 1/r for all particle pairwise particle separations \n",
    "    inv_r = np.sqrt(dx**2 + dy**2)\n",
    "    inv_r[inv_r>0] = 1.0/inv_r[inv_r>0]\n",
    "\n",
    "    # sum over upper triangle, to count each interaction only once\n",
    "    PE = G * np.sum(np.sum(np.triu(-(mass*mass.T)*inv_r,1)))\n",
    "\n",
    "    return KE, PE"
   ]
  },
  {
   "cell_type": "code",
   "execution_count": 4,
   "metadata": {},
   "outputs": [],
   "source": [
    "# Simulation parameters\n",
    "N         = 100    # Number of particles\n",
    "t         = 0      # current time of the simulation\n",
    "tEnd      = 10.0   # time at which simulation ends\n",
    "dt        = 0.01   # timestep\n",
    "softening = 0.1    # softening length\n",
    "G         = 1.0    # Newton's Gravitational Constant\n",
    "plotRealTime = False # switch on for plotting as the simulation goes along\n",
    "\n",
    "# Generate Initial Conditions\n",
    "np.random.seed(17)            # set the random number generator seed"
   ]
  },
  {
   "cell_type": "code",
   "execution_count": 5,
   "metadata": {},
   "outputs": [],
   "source": [
    "mass = 20.0*np.ones((N,1))/N  # total mass of particles is 20\n",
    "pos  = np.random.randn(N,2)   # randomly selected positions and velocities\n",
    "vel  = np.random.randn(N,2)"
   ]
  },
  {
   "cell_type": "code",
   "execution_count": 6,
   "metadata": {},
   "outputs": [],
   "source": [
    "# Convert to Center-of-Mass frame\n",
    "vel -= np.mean(mass * vel,0) / np.mean(mass)"
   ]
  },
  {
   "cell_type": "code",
   "execution_count": 7,
   "metadata": {},
   "outputs": [],
   "source": [
    "# calculate initial gravitational accelerations\n",
    "acc = getAcc( pos, mass, G, softening )"
   ]
  },
  {
   "cell_type": "code",
   "execution_count": 8,
   "metadata": {},
   "outputs": [],
   "source": [
    "# calculate initial energy of system\n",
    "KE, PE  = getEnergy( pos, vel, mass, G )"
   ]
  },
  {
   "cell_type": "code",
   "execution_count": 9,
   "metadata": {},
   "outputs": [
    {
     "data": {
      "text/plain": [
       "1000"
      ]
     },
     "execution_count": 9,
     "metadata": {},
     "output_type": "execute_result"
    }
   ],
   "source": [
    "# number of timesteps\n",
    "Nt = int(np.ceil(tEnd/dt))\n",
    "Nt"
   ]
  },
  {
   "cell_type": "code",
   "execution_count": 11,
   "metadata": {},
   "outputs": [],
   "source": [
    "# save energies, particle orbits for plotting trails\n",
    "pos_save = np.zeros((N,2,Nt+1))\n",
    "pos_save[:,:,0] = pos\n",
    "KE_save = np.zeros(Nt+1)\n",
    "KE_save[0] = KE\n",
    "PE_save = np.zeros(Nt+1)\n",
    "PE_save[0] = PE\n",
    "t_all = np.arange(Nt+1)*dt"
   ]
  },
  {
   "cell_type": "code",
   "execution_count": 12,
   "metadata": {},
   "outputs": [],
   "source": [
    "# Simulation Main Loop\n",
    "for i in range(Nt):\n",
    "    # (1/2) kick\n",
    "    vel += acc * dt/2.0\n",
    "\n",
    "    # drift\n",
    "    pos += vel * dt\n",
    "\n",
    "    # update accelerations\n",
    "    acc = getAcc( pos, mass, G, softening )\n",
    "\n",
    "    # (1/2) kick\n",
    "    vel += acc * dt/2.0\n",
    "\n",
    "    # update time\n",
    "    t += dt\n",
    "\n",
    "    # get energy of system\n",
    "    KE, PE  = getEnergy( pos, vel, mass, G )\n",
    "\n",
    "    # save energies, positions for plotting trail\n",
    "    pos_save[:,:,i+1] = pos\n",
    "    KE_save[i+1] = KE\n",
    "    PE_save[i+1] = PE"
   ]
  },
  {
   "cell_type": "code",
   "execution_count": 13,
   "metadata": {},
   "outputs": [
    {
     "data": {
      "text/plain": [
       "<matplotlib.legend.Legend at 0x7fc99c409310>"
      ]
     },
     "execution_count": 13,
     "metadata": {},
     "output_type": "execute_result"
    },
    {
     "data": {
      "image/png": "[encoded data removed]",
      "text/plain": [
       "<Figure size 320x400 with 2 Axes>"
      ]
     },
     "metadata": {
      "needs_background": "light"
     },
     "output_type": "display_data"
    }
   ],
   "source": [
    "# prep figure\n",
    "fig = plt.figure(figsize=(4,5), dpi=80)\n",
    "grid = plt.GridSpec(3, 1, wspace=0.0, hspace=0.3)\n",
    "ax1 = plt.subplot(grid[0:2,0])\n",
    "ax2 = plt.subplot(grid[2,0])\n",
    "\n",
    "history = 200\n",
    "plt.sca(ax1)\n",
    "plt.cla()\n",
    "xx = pos_save[:,0,max(i-history,0):i+1]\n",
    "yy = pos_save[:,1,max(i-history,0):i+1]\n",
    "plt.scatter(xx,yy,s=0.01,color=[.7,.7,1])\n",
    "plt.scatter(pos[:,0],pos[:,1],s=10,color='blue')\n",
    "ax1.set(xlim=(-5, 5), ylim=(-5, 5))\n",
    "ax1.set_aspect('equal', 'box')\n",
    "#ax1.set_xticks([-2,-1,0,1,2])\n",
    "#ax1.set_yticks([-2,-1,0,1,2])\n",
    "\n",
    "plt.sca(ax2)\n",
    "plt.cla()\n",
    "plt.scatter(t_all,KE_save,color='red',s=1,label='KE' if i == Nt-1 else \"\")\n",
    "plt.scatter(t_all,PE_save,color='blue',s=1,label='PE' if i == Nt-1 else \"\")\n",
    "plt.scatter(t_all,KE_save+PE_save,color='black',s=1,label='Etot' if i == Nt-1 else \"\")\n",
    "ax2.set(xlim=(0, tEnd), ylim=(-300, 300))\n",
    "ax2.set_aspect(0.007)\n",
    "\n",
    "# add labels/legend\n",
    "plt.sca(ax2)\n",
    "plt.xlabel('time')\n",
    "plt.ylabel('energy')\n",
    "ax2.legend(loc='upper right')\n",
    "\n",
    "# Save figure\n",
    "# plt.savefig('nbody.png',dpi=240)\n",
    "\n",
    "\n"
   ]
  },
  {
   "cell_type": "code",
   "execution_count": null,
   "metadata": {},
   "outputs": [],
   "source": []
  },
  {
   "cell_type": "code",
   "execution_count": null,
   "metadata": {},
   "outputs": [],
   "source": []
  }
 ],
 "metadata": {
  "kernelspec": {
   "display_name": "Python 3",
   "language": "python",
   "name": "python3"
  },
  "language_info": {
   "codemirror_mode": {
    "name": "ipython",
    "version": 3
   },
   "file_extension": ".py",
   "mimetype": "text/x-python",
   "name": "python",
   "nbconvert_exporter": "python",
   "pygments_lexer": "ipython3",
   "version": "3.8.5"
  }
 },
 "nbformat": 4,
 "nbformat_minor": 4
}
